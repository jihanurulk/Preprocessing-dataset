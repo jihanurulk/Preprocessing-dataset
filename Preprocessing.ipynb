{
  "nbformat": 4,
  "nbformat_minor": 0,
  "metadata": {
    "colab": {
      "provenance": [],
      "authorship_tag": "ABX9TyP2MCe7HbQY7gtGV4QFEUmN",
      "include_colab_link": true
    },
    "kernelspec": {
      "name": "python3",
      "display_name": "Python 3"
    },
    "language_info": {
      "name": "python"
    }
  },
  "cells": [
    {
      "cell_type": "markdown",
      "metadata": {
        "id": "view-in-github",
        "colab_type": "text"
      },
      "source": [
        "<a href=\"https://colab.research.google.com/github/jihanurulk/Preprocessing-dataset/blob/main/Preprocessing.ipynb\" target=\"_parent\"><img src=\"https://colab.research.google.com/assets/colab-badge.svg\" alt=\"Open In Colab\"/></a>"
      ]
    },
    {
      "cell_type": "code",
      "execution_count": 20,
      "metadata": {
        "id": "COG3dn_cSa8L"
      },
      "outputs": [],
      "source": [
        "import pandas as pd\n",
        "import numpy as np\n",
        "import matplotlib.pyplot as plt"
      ]
    },
    {
      "cell_type": "code",
      "source": [
        "#Pemanggilan data\n",
        "data = pd.read_csv(\"produk_elektronik.csv\")"
      ],
      "metadata": {
        "id": "5qmGQ86eUsAL"
      },
      "execution_count": 21,
      "outputs": []
    },
    {
      "cell_type": "code",
      "source": [
        "#Menampilkan 5 data teratas\n",
        "data.head()"
      ],
      "metadata": {
        "colab": {
          "base_uri": "https://localhost:8080/",
          "height": 206
        },
        "id": "6WmQEiB9rrAi",
        "outputId": "0104ab54-23b0-4840-e0ba-017f1320f67c"
      },
      "execution_count": 22,
      "outputs": [
        {
          "output_type": "execute_result",
          "data": {
            "text/plain": [
              "   produk_id nama_produk    kategori  harga  rating  jumlah_ulasan  \\\n",
              "0          1    Produk_1  Smartwatch  746.0     4.2          273.0   \n",
              "1          2    Produk_2   Headphone  241.0     3.5          239.0   \n",
              "2          3    Produk_3      Tablet  810.0     3.8          209.0   \n",
              "3          4    Produk_4   Headphone  303.0     3.2           59.0   \n",
              "4          5    Produk_5   Headphone  252.0     3.7           76.0   \n",
              "\n",
              "   negara_asal  \n",
              "0        Japan  \n",
              "1       Canada  \n",
              "2       Canada  \n",
              "3  South Korea  \n",
              "4  South Korea  "
            ],
            "text/html": [
              "\n",
              "  <div id=\"df-f952050e-874b-4722-a69b-bfa9c6081356\" class=\"colab-df-container\">\n",
              "    <div>\n",
              "<style scoped>\n",
              "    .dataframe tbody tr th:only-of-type {\n",
              "        vertical-align: middle;\n",
              "    }\n",
              "\n",
              "    .dataframe tbody tr th {\n",
              "        vertical-align: top;\n",
              "    }\n",
              "\n",
              "    .dataframe thead th {\n",
              "        text-align: right;\n",
              "    }\n",
              "</style>\n",
              "<table border=\"1\" class=\"dataframe\">\n",
              "  <thead>\n",
              "    <tr style=\"text-align: right;\">\n",
              "      <th></th>\n",
              "      <th>produk_id</th>\n",
              "      <th>nama_produk</th>\n",
              "      <th>kategori</th>\n",
              "      <th>harga</th>\n",
              "      <th>rating</th>\n",
              "      <th>jumlah_ulasan</th>\n",
              "      <th>negara_asal</th>\n",
              "    </tr>\n",
              "  </thead>\n",
              "  <tbody>\n",
              "    <tr>\n",
              "      <th>0</th>\n",
              "      <td>1</td>\n",
              "      <td>Produk_1</td>\n",
              "      <td>Smartwatch</td>\n",
              "      <td>746.0</td>\n",
              "      <td>4.2</td>\n",
              "      <td>273.0</td>\n",
              "      <td>Japan</td>\n",
              "    </tr>\n",
              "    <tr>\n",
              "      <th>1</th>\n",
              "      <td>2</td>\n",
              "      <td>Produk_2</td>\n",
              "      <td>Headphone</td>\n",
              "      <td>241.0</td>\n",
              "      <td>3.5</td>\n",
              "      <td>239.0</td>\n",
              "      <td>Canada</td>\n",
              "    </tr>\n",
              "    <tr>\n",
              "      <th>2</th>\n",
              "      <td>3</td>\n",
              "      <td>Produk_3</td>\n",
              "      <td>Tablet</td>\n",
              "      <td>810.0</td>\n",
              "      <td>3.8</td>\n",
              "      <td>209.0</td>\n",
              "      <td>Canada</td>\n",
              "    </tr>\n",
              "    <tr>\n",
              "      <th>3</th>\n",
              "      <td>4</td>\n",
              "      <td>Produk_4</td>\n",
              "      <td>Headphone</td>\n",
              "      <td>303.0</td>\n",
              "      <td>3.2</td>\n",
              "      <td>59.0</td>\n",
              "      <td>South Korea</td>\n",
              "    </tr>\n",
              "    <tr>\n",
              "      <th>4</th>\n",
              "      <td>5</td>\n",
              "      <td>Produk_5</td>\n",
              "      <td>Headphone</td>\n",
              "      <td>252.0</td>\n",
              "      <td>3.7</td>\n",
              "      <td>76.0</td>\n",
              "      <td>South Korea</td>\n",
              "    </tr>\n",
              "  </tbody>\n",
              "</table>\n",
              "</div>\n",
              "    <div class=\"colab-df-buttons\">\n",
              "\n",
              "  <div class=\"colab-df-container\">\n",
              "    <button class=\"colab-df-convert\" onclick=\"convertToInteractive('df-f952050e-874b-4722-a69b-bfa9c6081356')\"\n",
              "            title=\"Convert this dataframe to an interactive table.\"\n",
              "            style=\"display:none;\">\n",
              "\n",
              "  <svg xmlns=\"http://www.w3.org/2000/svg\" height=\"24px\" viewBox=\"0 -960 960 960\">\n",
              "    <path d=\"M120-120v-720h720v720H120Zm60-500h600v-160H180v160Zm220 220h160v-160H400v160Zm0 220h160v-160H400v160ZM180-400h160v-160H180v160Zm440 0h160v-160H620v160ZM180-180h160v-160H180v160Zm440 0h160v-160H620v160Z\"/>\n",
              "  </svg>\n",
              "    </button>\n",
              "\n",
              "  <style>\n",
              "    .colab-df-container {\n",
              "      display:flex;\n",
              "      gap: 12px;\n",
              "    }\n",
              "\n",
              "    .colab-df-convert {\n",
              "      background-color: #E8F0FE;\n",
              "      border: none;\n",
              "      border-radius: 50%;\n",
              "      cursor: pointer;\n",
              "      display: none;\n",
              "      fill: #1967D2;\n",
              "      height: 32px;\n",
              "      padding: 0 0 0 0;\n",
              "      width: 32px;\n",
              "    }\n",
              "\n",
              "    .colab-df-convert:hover {\n",
              "      background-color: #E2EBFA;\n",
              "      box-shadow: 0px 1px 2px rgba(60, 64, 67, 0.3), 0px 1px 3px 1px rgba(60, 64, 67, 0.15);\n",
              "      fill: #174EA6;\n",
              "    }\n",
              "\n",
              "    .colab-df-buttons div {\n",
              "      margin-bottom: 4px;\n",
              "    }\n",
              "\n",
              "    [theme=dark] .colab-df-convert {\n",
              "      background-color: #3B4455;\n",
              "      fill: #D2E3FC;\n",
              "    }\n",
              "\n",
              "    [theme=dark] .colab-df-convert:hover {\n",
              "      background-color: #434B5C;\n",
              "      box-shadow: 0px 1px 3px 1px rgba(0, 0, 0, 0.15);\n",
              "      filter: drop-shadow(0px 1px 2px rgba(0, 0, 0, 0.3));\n",
              "      fill: #FFFFFF;\n",
              "    }\n",
              "  </style>\n",
              "\n",
              "    <script>\n",
              "      const buttonEl =\n",
              "        document.querySelector('#df-f952050e-874b-4722-a69b-bfa9c6081356 button.colab-df-convert');\n",
              "      buttonEl.style.display =\n",
              "        google.colab.kernel.accessAllowed ? 'block' : 'none';\n",
              "\n",
              "      async function convertToInteractive(key) {\n",
              "        const element = document.querySelector('#df-f952050e-874b-4722-a69b-bfa9c6081356');\n",
              "        const dataTable =\n",
              "          await google.colab.kernel.invokeFunction('convertToInteractive',\n",
              "                                                    [key], {});\n",
              "        if (!dataTable) return;\n",
              "\n",
              "        const docLinkHtml = 'Like what you see? Visit the ' +\n",
              "          '<a target=\"_blank\" href=https://colab.research.google.com/notebooks/data_table.ipynb>data table notebook</a>'\n",
              "          + ' to learn more about interactive tables.';\n",
              "        element.innerHTML = '';\n",
              "        dataTable['output_type'] = 'display_data';\n",
              "        await google.colab.output.renderOutput(dataTable, element);\n",
              "        const docLink = document.createElement('div');\n",
              "        docLink.innerHTML = docLinkHtml;\n",
              "        element.appendChild(docLink);\n",
              "      }\n",
              "    </script>\n",
              "  </div>\n",
              "\n",
              "\n",
              "<div id=\"df-36f509a4-a111-4ad1-b56c-e33eab5e89c0\">\n",
              "  <button class=\"colab-df-quickchart\" onclick=\"quickchart('df-36f509a4-a111-4ad1-b56c-e33eab5e89c0')\"\n",
              "            title=\"Suggest charts\"\n",
              "            style=\"display:none;\">\n",
              "\n",
              "<svg xmlns=\"http://www.w3.org/2000/svg\" height=\"24px\"viewBox=\"0 0 24 24\"\n",
              "     width=\"24px\">\n",
              "    <g>\n",
              "        <path d=\"M19 3H5c-1.1 0-2 .9-2 2v14c0 1.1.9 2 2 2h14c1.1 0 2-.9 2-2V5c0-1.1-.9-2-2-2zM9 17H7v-7h2v7zm4 0h-2V7h2v10zm4 0h-2v-4h2v4z\"/>\n",
              "    </g>\n",
              "</svg>\n",
              "  </button>\n",
              "\n",
              "<style>\n",
              "  .colab-df-quickchart {\n",
              "      --bg-color: #E8F0FE;\n",
              "      --fill-color: #1967D2;\n",
              "      --hover-bg-color: #E2EBFA;\n",
              "      --hover-fill-color: #174EA6;\n",
              "      --disabled-fill-color: #AAA;\n",
              "      --disabled-bg-color: #DDD;\n",
              "  }\n",
              "\n",
              "  [theme=dark] .colab-df-quickchart {\n",
              "      --bg-color: #3B4455;\n",
              "      --fill-color: #D2E3FC;\n",
              "      --hover-bg-color: #434B5C;\n",
              "      --hover-fill-color: #FFFFFF;\n",
              "      --disabled-bg-color: #3B4455;\n",
              "      --disabled-fill-color: #666;\n",
              "  }\n",
              "\n",
              "  .colab-df-quickchart {\n",
              "    background-color: var(--bg-color);\n",
              "    border: none;\n",
              "    border-radius: 50%;\n",
              "    cursor: pointer;\n",
              "    display: none;\n",
              "    fill: var(--fill-color);\n",
              "    height: 32px;\n",
              "    padding: 0;\n",
              "    width: 32px;\n",
              "  }\n",
              "\n",
              "  .colab-df-quickchart:hover {\n",
              "    background-color: var(--hover-bg-color);\n",
              "    box-shadow: 0 1px 2px rgba(60, 64, 67, 0.3), 0 1px 3px 1px rgba(60, 64, 67, 0.15);\n",
              "    fill: var(--button-hover-fill-color);\n",
              "  }\n",
              "\n",
              "  .colab-df-quickchart-complete:disabled,\n",
              "  .colab-df-quickchart-complete:disabled:hover {\n",
              "    background-color: var(--disabled-bg-color);\n",
              "    fill: var(--disabled-fill-color);\n",
              "    box-shadow: none;\n",
              "  }\n",
              "\n",
              "  .colab-df-spinner {\n",
              "    border: 2px solid var(--fill-color);\n",
              "    border-color: transparent;\n",
              "    border-bottom-color: var(--fill-color);\n",
              "    animation:\n",
              "      spin 1s steps(1) infinite;\n",
              "  }\n",
              "\n",
              "  @keyframes spin {\n",
              "    0% {\n",
              "      border-color: transparent;\n",
              "      border-bottom-color: var(--fill-color);\n",
              "      border-left-color: var(--fill-color);\n",
              "    }\n",
              "    20% {\n",
              "      border-color: transparent;\n",
              "      border-left-color: var(--fill-color);\n",
              "      border-top-color: var(--fill-color);\n",
              "    }\n",
              "    30% {\n",
              "      border-color: transparent;\n",
              "      border-left-color: var(--fill-color);\n",
              "      border-top-color: var(--fill-color);\n",
              "      border-right-color: var(--fill-color);\n",
              "    }\n",
              "    40% {\n",
              "      border-color: transparent;\n",
              "      border-right-color: var(--fill-color);\n",
              "      border-top-color: var(--fill-color);\n",
              "    }\n",
              "    60% {\n",
              "      border-color: transparent;\n",
              "      border-right-color: var(--fill-color);\n",
              "    }\n",
              "    80% {\n",
              "      border-color: transparent;\n",
              "      border-right-color: var(--fill-color);\n",
              "      border-bottom-color: var(--fill-color);\n",
              "    }\n",
              "    90% {\n",
              "      border-color: transparent;\n",
              "      border-bottom-color: var(--fill-color);\n",
              "    }\n",
              "  }\n",
              "</style>\n",
              "\n",
              "  <script>\n",
              "    async function quickchart(key) {\n",
              "      const quickchartButtonEl =\n",
              "        document.querySelector('#' + key + ' button');\n",
              "      quickchartButtonEl.disabled = true;  // To prevent multiple clicks.\n",
              "      quickchartButtonEl.classList.add('colab-df-spinner');\n",
              "      try {\n",
              "        const charts = await google.colab.kernel.invokeFunction(\n",
              "            'suggestCharts', [key], {});\n",
              "      } catch (error) {\n",
              "        console.error('Error during call to suggestCharts:', error);\n",
              "      }\n",
              "      quickchartButtonEl.classList.remove('colab-df-spinner');\n",
              "      quickchartButtonEl.classList.add('colab-df-quickchart-complete');\n",
              "    }\n",
              "    (() => {\n",
              "      let quickchartButtonEl =\n",
              "        document.querySelector('#df-36f509a4-a111-4ad1-b56c-e33eab5e89c0 button');\n",
              "      quickchartButtonEl.style.display =\n",
              "        google.colab.kernel.accessAllowed ? 'block' : 'none';\n",
              "    })();\n",
              "  </script>\n",
              "</div>\n",
              "\n",
              "    </div>\n",
              "  </div>\n"
            ],
            "application/vnd.google.colaboratory.intrinsic+json": {
              "type": "dataframe",
              "variable_name": "data",
              "summary": "{\n  \"name\": \"data\",\n  \"rows\": 550,\n  \"fields\": [\n    {\n      \"column\": \"produk_id\",\n      \"properties\": {\n        \"dtype\": \"number\",\n        \"std\": 158,\n        \"min\": 1,\n        \"max\": 550,\n        \"num_unique_values\": 550,\n        \"samples\": [\n          196,\n          80,\n          481\n        ],\n        \"semantic_type\": \"\",\n        \"description\": \"\"\n      }\n    },\n    {\n      \"column\": \"nama_produk\",\n      \"properties\": {\n        \"dtype\": \"string\",\n        \"num_unique_values\": 550,\n        \"samples\": [\n          \"Produk_196\",\n          \"Produk_80\",\n          \"Produk_481\"\n        ],\n        \"semantic_type\": \"\",\n        \"description\": \"\"\n      }\n    },\n    {\n      \"column\": \"kategori\",\n      \"properties\": {\n        \"dtype\": \"category\",\n        \"num_unique_values\": 6,\n        \"samples\": [\n          \"Smartwatch\",\n          \"Headphone\",\n          \"Smartphone\"\n        ],\n        \"semantic_type\": \"\",\n        \"description\": \"\"\n      }\n    },\n    {\n      \"column\": \"harga\",\n      \"properties\": {\n        \"dtype\": \"number\",\n        \"std\": 625.8867249279893,\n        \"min\": -213.0,\n        \"max\": 8341.0,\n        \"num_unique_values\": 394,\n        \"samples\": [\n          388.0,\n          492.0,\n          418.0\n        ],\n        \"semantic_type\": \"\",\n        \"description\": \"\"\n      }\n    },\n    {\n      \"column\": \"rating\",\n      \"properties\": {\n        \"dtype\": \"number\",\n        \"std\": 0.5710523983693329,\n        \"min\": 3.0,\n        \"max\": 5.0,\n        \"num_unique_values\": 21,\n        \"samples\": [\n          4.2,\n          4.3,\n          5.0\n        ],\n        \"semantic_type\": \"\",\n        \"description\": \"\"\n      }\n    },\n    {\n      \"column\": \"jumlah_ulasan\",\n      \"properties\": {\n        \"dtype\": \"number\",\n        \"std\": 142.65537992151366,\n        \"min\": 12.0,\n        \"max\": 499.0,\n        \"num_unique_values\": 327,\n        \"samples\": [\n          212.0,\n          172.0,\n          375.0\n        ],\n        \"semantic_type\": \"\",\n        \"description\": \"\"\n      }\n    },\n    {\n      \"column\": \"negara_asal\",\n      \"properties\": {\n        \"dtype\": \"category\",\n        \"num_unique_values\": 9,\n        \"samples\": [\n          \"India\",\n          \"Canada\",\n          \"Germany\"\n        ],\n        \"semantic_type\": \"\",\n        \"description\": \"\"\n      }\n    }\n  ]\n}"
            }
          },
          "metadata": {},
          "execution_count": 22
        }
      ]
    },
    {
      "cell_type": "code",
      "source": [
        "#Menampilkan 5 data terakhir\n",
        "data.tail(5)"
      ],
      "metadata": {
        "colab": {
          "base_uri": "https://localhost:8080/",
          "height": 206
        },
        "id": "cG84jjjfrwBe",
        "outputId": "6d489f1f-0111-4d43-fb2b-95055fe18717"
      },
      "execution_count": 23,
      "outputs": [
        {
          "output_type": "execute_result",
          "data": {
            "text/plain": [
              "     produk_id nama_produk   kategori  harga  rating  jumlah_ulasan  \\\n",
              "545        546  Produk_546     Laptop  496.0     3.9           19.0   \n",
              "546        547  Produk_547  Headphone  628.0     4.7          414.0   \n",
              "547        548  Produk_548     Tablet  465.0     4.3          393.0   \n",
              "548        549  Produk_549     Laptop  495.0     3.1          311.0   \n",
              "549        550  Produk_550     Tablet  388.0     4.3          240.0   \n",
              "\n",
              "    negara_asal  \n",
              "545       China  \n",
              "546         USA  \n",
              "547       India  \n",
              "548     Germany  \n",
              "549     Germany  "
            ],
            "text/html": [
              "\n",
              "  <div id=\"df-6e03f974-0de6-4dce-b6aa-ff65d52d23a7\" class=\"colab-df-container\">\n",
              "    <div>\n",
              "<style scoped>\n",
              "    .dataframe tbody tr th:only-of-type {\n",
              "        vertical-align: middle;\n",
              "    }\n",
              "\n",
              "    .dataframe tbody tr th {\n",
              "        vertical-align: top;\n",
              "    }\n",
              "\n",
              "    .dataframe thead th {\n",
              "        text-align: right;\n",
              "    }\n",
              "</style>\n",
              "<table border=\"1\" class=\"dataframe\">\n",
              "  <thead>\n",
              "    <tr style=\"text-align: right;\">\n",
              "      <th></th>\n",
              "      <th>produk_id</th>\n",
              "      <th>nama_produk</th>\n",
              "      <th>kategori</th>\n",
              "      <th>harga</th>\n",
              "      <th>rating</th>\n",
              "      <th>jumlah_ulasan</th>\n",
              "      <th>negara_asal</th>\n",
              "    </tr>\n",
              "  </thead>\n",
              "  <tbody>\n",
              "    <tr>\n",
              "      <th>545</th>\n",
              "      <td>546</td>\n",
              "      <td>Produk_546</td>\n",
              "      <td>Laptop</td>\n",
              "      <td>496.0</td>\n",
              "      <td>3.9</td>\n",
              "      <td>19.0</td>\n",
              "      <td>China</td>\n",
              "    </tr>\n",
              "    <tr>\n",
              "      <th>546</th>\n",
              "      <td>547</td>\n",
              "      <td>Produk_547</td>\n",
              "      <td>Headphone</td>\n",
              "      <td>628.0</td>\n",
              "      <td>4.7</td>\n",
              "      <td>414.0</td>\n",
              "      <td>USA</td>\n",
              "    </tr>\n",
              "    <tr>\n",
              "      <th>547</th>\n",
              "      <td>548</td>\n",
              "      <td>Produk_548</td>\n",
              "      <td>Tablet</td>\n",
              "      <td>465.0</td>\n",
              "      <td>4.3</td>\n",
              "      <td>393.0</td>\n",
              "      <td>India</td>\n",
              "    </tr>\n",
              "    <tr>\n",
              "      <th>548</th>\n",
              "      <td>549</td>\n",
              "      <td>Produk_549</td>\n",
              "      <td>Laptop</td>\n",
              "      <td>495.0</td>\n",
              "      <td>3.1</td>\n",
              "      <td>311.0</td>\n",
              "      <td>Germany</td>\n",
              "    </tr>\n",
              "    <tr>\n",
              "      <th>549</th>\n",
              "      <td>550</td>\n",
              "      <td>Produk_550</td>\n",
              "      <td>Tablet</td>\n",
              "      <td>388.0</td>\n",
              "      <td>4.3</td>\n",
              "      <td>240.0</td>\n",
              "      <td>Germany</td>\n",
              "    </tr>\n",
              "  </tbody>\n",
              "</table>\n",
              "</div>\n",
              "    <div class=\"colab-df-buttons\">\n",
              "\n",
              "  <div class=\"colab-df-container\">\n",
              "    <button class=\"colab-df-convert\" onclick=\"convertToInteractive('df-6e03f974-0de6-4dce-b6aa-ff65d52d23a7')\"\n",
              "            title=\"Convert this dataframe to an interactive table.\"\n",
              "            style=\"display:none;\">\n",
              "\n",
              "  <svg xmlns=\"http://www.w3.org/2000/svg\" height=\"24px\" viewBox=\"0 -960 960 960\">\n",
              "    <path d=\"M120-120v-720h720v720H120Zm60-500h600v-160H180v160Zm220 220h160v-160H400v160Zm0 220h160v-160H400v160ZM180-400h160v-160H180v160Zm440 0h160v-160H620v160ZM180-180h160v-160H180v160Zm440 0h160v-160H620v160Z\"/>\n",
              "  </svg>\n",
              "    </button>\n",
              "\n",
              "  <style>\n",
              "    .colab-df-container {\n",
              "      display:flex;\n",
              "      gap: 12px;\n",
              "    }\n",
              "\n",
              "    .colab-df-convert {\n",
              "      background-color: #E8F0FE;\n",
              "      border: none;\n",
              "      border-radius: 50%;\n",
              "      cursor: pointer;\n",
              "      display: none;\n",
              "      fill: #1967D2;\n",
              "      height: 32px;\n",
              "      padding: 0 0 0 0;\n",
              "      width: 32px;\n",
              "    }\n",
              "\n",
              "    .colab-df-convert:hover {\n",
              "      background-color: #E2EBFA;\n",
              "      box-shadow: 0px 1px 2px rgba(60, 64, 67, 0.3), 0px 1px 3px 1px rgba(60, 64, 67, 0.15);\n",
              "      fill: #174EA6;\n",
              "    }\n",
              "\n",
              "    .colab-df-buttons div {\n",
              "      margin-bottom: 4px;\n",
              "    }\n",
              "\n",
              "    [theme=dark] .colab-df-convert {\n",
              "      background-color: #3B4455;\n",
              "      fill: #D2E3FC;\n",
              "    }\n",
              "\n",
              "    [theme=dark] .colab-df-convert:hover {\n",
              "      background-color: #434B5C;\n",
              "      box-shadow: 0px 1px 3px 1px rgba(0, 0, 0, 0.15);\n",
              "      filter: drop-shadow(0px 1px 2px rgba(0, 0, 0, 0.3));\n",
              "      fill: #FFFFFF;\n",
              "    }\n",
              "  </style>\n",
              "\n",
              "    <script>\n",
              "      const buttonEl =\n",
              "        document.querySelector('#df-6e03f974-0de6-4dce-b6aa-ff65d52d23a7 button.colab-df-convert');\n",
              "      buttonEl.style.display =\n",
              "        google.colab.kernel.accessAllowed ? 'block' : 'none';\n",
              "\n",
              "      async function convertToInteractive(key) {\n",
              "        const element = document.querySelector('#df-6e03f974-0de6-4dce-b6aa-ff65d52d23a7');\n",
              "        const dataTable =\n",
              "          await google.colab.kernel.invokeFunction('convertToInteractive',\n",
              "                                                    [key], {});\n",
              "        if (!dataTable) return;\n",
              "\n",
              "        const docLinkHtml = 'Like what you see? Visit the ' +\n",
              "          '<a target=\"_blank\" href=https://colab.research.google.com/notebooks/data_table.ipynb>data table notebook</a>'\n",
              "          + ' to learn more about interactive tables.';\n",
              "        element.innerHTML = '';\n",
              "        dataTable['output_type'] = 'display_data';\n",
              "        await google.colab.output.renderOutput(dataTable, element);\n",
              "        const docLink = document.createElement('div');\n",
              "        docLink.innerHTML = docLinkHtml;\n",
              "        element.appendChild(docLink);\n",
              "      }\n",
              "    </script>\n",
              "  </div>\n",
              "\n",
              "\n",
              "<div id=\"df-c3247c3a-6b47-40de-8ff6-14b2acdce8c3\">\n",
              "  <button class=\"colab-df-quickchart\" onclick=\"quickchart('df-c3247c3a-6b47-40de-8ff6-14b2acdce8c3')\"\n",
              "            title=\"Suggest charts\"\n",
              "            style=\"display:none;\">\n",
              "\n",
              "<svg xmlns=\"http://www.w3.org/2000/svg\" height=\"24px\"viewBox=\"0 0 24 24\"\n",
              "     width=\"24px\">\n",
              "    <g>\n",
              "        <path d=\"M19 3H5c-1.1 0-2 .9-2 2v14c0 1.1.9 2 2 2h14c1.1 0 2-.9 2-2V5c0-1.1-.9-2-2-2zM9 17H7v-7h2v7zm4 0h-2V7h2v10zm4 0h-2v-4h2v4z\"/>\n",
              "    </g>\n",
              "</svg>\n",
              "  </button>\n",
              "\n",
              "<style>\n",
              "  .colab-df-quickchart {\n",
              "      --bg-color: #E8F0FE;\n",
              "      --fill-color: #1967D2;\n",
              "      --hover-bg-color: #E2EBFA;\n",
              "      --hover-fill-color: #174EA6;\n",
              "      --disabled-fill-color: #AAA;\n",
              "      --disabled-bg-color: #DDD;\n",
              "  }\n",
              "\n",
              "  [theme=dark] .colab-df-quickchart {\n",
              "      --bg-color: #3B4455;\n",
              "      --fill-color: #D2E3FC;\n",
              "      --hover-bg-color: #434B5C;\n",
              "      --hover-fill-color: #FFFFFF;\n",
              "      --disabled-bg-color: #3B4455;\n",
              "      --disabled-fill-color: #666;\n",
              "  }\n",
              "\n",
              "  .colab-df-quickchart {\n",
              "    background-color: var(--bg-color);\n",
              "    border: none;\n",
              "    border-radius: 50%;\n",
              "    cursor: pointer;\n",
              "    display: none;\n",
              "    fill: var(--fill-color);\n",
              "    height: 32px;\n",
              "    padding: 0;\n",
              "    width: 32px;\n",
              "  }\n",
              "\n",
              "  .colab-df-quickchart:hover {\n",
              "    background-color: var(--hover-bg-color);\n",
              "    box-shadow: 0 1px 2px rgba(60, 64, 67, 0.3), 0 1px 3px 1px rgba(60, 64, 67, 0.15);\n",
              "    fill: var(--button-hover-fill-color);\n",
              "  }\n",
              "\n",
              "  .colab-df-quickchart-complete:disabled,\n",
              "  .colab-df-quickchart-complete:disabled:hover {\n",
              "    background-color: var(--disabled-bg-color);\n",
              "    fill: var(--disabled-fill-color);\n",
              "    box-shadow: none;\n",
              "  }\n",
              "\n",
              "  .colab-df-spinner {\n",
              "    border: 2px solid var(--fill-color);\n",
              "    border-color: transparent;\n",
              "    border-bottom-color: var(--fill-color);\n",
              "    animation:\n",
              "      spin 1s steps(1) infinite;\n",
              "  }\n",
              "\n",
              "  @keyframes spin {\n",
              "    0% {\n",
              "      border-color: transparent;\n",
              "      border-bottom-color: var(--fill-color);\n",
              "      border-left-color: var(--fill-color);\n",
              "    }\n",
              "    20% {\n",
              "      border-color: transparent;\n",
              "      border-left-color: var(--fill-color);\n",
              "      border-top-color: var(--fill-color);\n",
              "    }\n",
              "    30% {\n",
              "      border-color: transparent;\n",
              "      border-left-color: var(--fill-color);\n",
              "      border-top-color: var(--fill-color);\n",
              "      border-right-color: var(--fill-color);\n",
              "    }\n",
              "    40% {\n",
              "      border-color: transparent;\n",
              "      border-right-color: var(--fill-color);\n",
              "      border-top-color: var(--fill-color);\n",
              "    }\n",
              "    60% {\n",
              "      border-color: transparent;\n",
              "      border-right-color: var(--fill-color);\n",
              "    }\n",
              "    80% {\n",
              "      border-color: transparent;\n",
              "      border-right-color: var(--fill-color);\n",
              "      border-bottom-color: var(--fill-color);\n",
              "    }\n",
              "    90% {\n",
              "      border-color: transparent;\n",
              "      border-bottom-color: var(--fill-color);\n",
              "    }\n",
              "  }\n",
              "</style>\n",
              "\n",
              "  <script>\n",
              "    async function quickchart(key) {\n",
              "      const quickchartButtonEl =\n",
              "        document.querySelector('#' + key + ' button');\n",
              "      quickchartButtonEl.disabled = true;  // To prevent multiple clicks.\n",
              "      quickchartButtonEl.classList.add('colab-df-spinner');\n",
              "      try {\n",
              "        const charts = await google.colab.kernel.invokeFunction(\n",
              "            'suggestCharts', [key], {});\n",
              "      } catch (error) {\n",
              "        console.error('Error during call to suggestCharts:', error);\n",
              "      }\n",
              "      quickchartButtonEl.classList.remove('colab-df-spinner');\n",
              "      quickchartButtonEl.classList.add('colab-df-quickchart-complete');\n",
              "    }\n",
              "    (() => {\n",
              "      let quickchartButtonEl =\n",
              "        document.querySelector('#df-c3247c3a-6b47-40de-8ff6-14b2acdce8c3 button');\n",
              "      quickchartButtonEl.style.display =\n",
              "        google.colab.kernel.accessAllowed ? 'block' : 'none';\n",
              "    })();\n",
              "  </script>\n",
              "</div>\n",
              "\n",
              "    </div>\n",
              "  </div>\n"
            ],
            "application/vnd.google.colaboratory.intrinsic+json": {
              "type": "dataframe",
              "summary": "{\n  \"name\": \"data\",\n  \"rows\": 5,\n  \"fields\": [\n    {\n      \"column\": \"produk_id\",\n      \"properties\": {\n        \"dtype\": \"number\",\n        \"std\": 1,\n        \"min\": 546,\n        \"max\": 550,\n        \"num_unique_values\": 5,\n        \"samples\": [\n          547,\n          550,\n          548\n        ],\n        \"semantic_type\": \"\",\n        \"description\": \"\"\n      }\n    },\n    {\n      \"column\": \"nama_produk\",\n      \"properties\": {\n        \"dtype\": \"string\",\n        \"num_unique_values\": 5,\n        \"samples\": [\n          \"Produk_547\",\n          \"Produk_550\",\n          \"Produk_548\"\n        ],\n        \"semantic_type\": \"\",\n        \"description\": \"\"\n      }\n    },\n    {\n      \"column\": \"kategori\",\n      \"properties\": {\n        \"dtype\": \"string\",\n        \"num_unique_values\": 3,\n        \"samples\": [\n          \"Laptop\",\n          \"Headphone\",\n          \"Tablet\"\n        ],\n        \"semantic_type\": \"\",\n        \"description\": \"\"\n      }\n    },\n    {\n      \"column\": \"harga\",\n      \"properties\": {\n        \"dtype\": \"number\",\n        \"std\": 86.65621731878215,\n        \"min\": 388.0,\n        \"max\": 628.0,\n        \"num_unique_values\": 5,\n        \"samples\": [\n          628.0,\n          388.0,\n          465.0\n        ],\n        \"semantic_type\": \"\",\n        \"description\": \"\"\n      }\n    },\n    {\n      \"column\": \"rating\",\n      \"properties\": {\n        \"dtype\": \"number\",\n        \"std\": 0.6066300355241241,\n        \"min\": 3.1,\n        \"max\": 4.7,\n        \"num_unique_values\": 4,\n        \"samples\": [\n          4.7,\n          3.1,\n          3.9\n        ],\n        \"semantic_type\": \"\",\n        \"description\": \"\"\n      }\n    },\n    {\n      \"column\": \"jumlah_ulasan\",\n      \"properties\": {\n        \"dtype\": \"number\",\n        \"std\": 159.13924720193947,\n        \"min\": 19.0,\n        \"max\": 414.0,\n        \"num_unique_values\": 5,\n        \"samples\": [\n          414.0,\n          240.0,\n          393.0\n        ],\n        \"semantic_type\": \"\",\n        \"description\": \"\"\n      }\n    },\n    {\n      \"column\": \"negara_asal\",\n      \"properties\": {\n        \"dtype\": \"string\",\n        \"num_unique_values\": 4,\n        \"samples\": [\n          \"USA\",\n          \"Germany\",\n          \"China\"\n        ],\n        \"semantic_type\": \"\",\n        \"description\": \"\"\n      }\n    }\n  ]\n}"
            }
          },
          "metadata": {},
          "execution_count": 23
        }
      ]
    },
    {
      "cell_type": "code",
      "source": [
        "#Melihat statistika deskriptif dari data\n",
        "data.describe()"
      ],
      "metadata": {
        "colab": {
          "base_uri": "https://localhost:8080/",
          "height": 300
        },
        "id": "jbBXcZ2tr0wM",
        "outputId": "90f7fd26-a813-4859-e6f3-7a74173ea60a"
      },
      "execution_count": 24,
      "outputs": [
        {
          "output_type": "execute_result",
          "data": {
            "text/plain": [
              "        produk_id        harga      rating  jumlah_ulasan\n",
              "count  550.000000   520.000000  500.000000     530.000000\n",
              "mean   275.500000   565.715385    4.005600     259.671698\n",
              "std    158.915596   625.886725    0.571052     142.655380\n",
              "min      1.000000  -213.000000    3.000000      12.000000\n",
              "25%    138.250000   374.000000    3.500000     139.000000\n",
              "50%    275.500000   516.000000    4.000000     262.500000\n",
              "75%    412.750000   656.250000    4.500000     390.750000\n",
              "max    550.000000  8341.000000    5.000000     499.000000"
            ],
            "text/html": [
              "\n",
              "  <div id=\"df-bf093b89-a1e4-4da9-8820-efad4eb30d9d\" class=\"colab-df-container\">\n",
              "    <div>\n",
              "<style scoped>\n",
              "    .dataframe tbody tr th:only-of-type {\n",
              "        vertical-align: middle;\n",
              "    }\n",
              "\n",
              "    .dataframe tbody tr th {\n",
              "        vertical-align: top;\n",
              "    }\n",
              "\n",
              "    .dataframe thead th {\n",
              "        text-align: right;\n",
              "    }\n",
              "</style>\n",
              "<table border=\"1\" class=\"dataframe\">\n",
              "  <thead>\n",
              "    <tr style=\"text-align: right;\">\n",
              "      <th></th>\n",
              "      <th>produk_id</th>\n",
              "      <th>harga</th>\n",
              "      <th>rating</th>\n",
              "      <th>jumlah_ulasan</th>\n",
              "    </tr>\n",
              "  </thead>\n",
              "  <tbody>\n",
              "    <tr>\n",
              "      <th>count</th>\n",
              "      <td>550.000000</td>\n",
              "      <td>520.000000</td>\n",
              "      <td>500.000000</td>\n",
              "      <td>530.000000</td>\n",
              "    </tr>\n",
              "    <tr>\n",
              "      <th>mean</th>\n",
              "      <td>275.500000</td>\n",
              "      <td>565.715385</td>\n",
              "      <td>4.005600</td>\n",
              "      <td>259.671698</td>\n",
              "    </tr>\n",
              "    <tr>\n",
              "      <th>std</th>\n",
              "      <td>158.915596</td>\n",
              "      <td>625.886725</td>\n",
              "      <td>0.571052</td>\n",
              "      <td>142.655380</td>\n",
              "    </tr>\n",
              "    <tr>\n",
              "      <th>min</th>\n",
              "      <td>1.000000</td>\n",
              "      <td>-213.000000</td>\n",
              "      <td>3.000000</td>\n",
              "      <td>12.000000</td>\n",
              "    </tr>\n",
              "    <tr>\n",
              "      <th>25%</th>\n",
              "      <td>138.250000</td>\n",
              "      <td>374.000000</td>\n",
              "      <td>3.500000</td>\n",
              "      <td>139.000000</td>\n",
              "    </tr>\n",
              "    <tr>\n",
              "      <th>50%</th>\n",
              "      <td>275.500000</td>\n",
              "      <td>516.000000</td>\n",
              "      <td>4.000000</td>\n",
              "      <td>262.500000</td>\n",
              "    </tr>\n",
              "    <tr>\n",
              "      <th>75%</th>\n",
              "      <td>412.750000</td>\n",
              "      <td>656.250000</td>\n",
              "      <td>4.500000</td>\n",
              "      <td>390.750000</td>\n",
              "    </tr>\n",
              "    <tr>\n",
              "      <th>max</th>\n",
              "      <td>550.000000</td>\n",
              "      <td>8341.000000</td>\n",
              "      <td>5.000000</td>\n",
              "      <td>499.000000</td>\n",
              "    </tr>\n",
              "  </tbody>\n",
              "</table>\n",
              "</div>\n",
              "    <div class=\"colab-df-buttons\">\n",
              "\n",
              "  <div class=\"colab-df-container\">\n",
              "    <button class=\"colab-df-convert\" onclick=\"convertToInteractive('df-bf093b89-a1e4-4da9-8820-efad4eb30d9d')\"\n",
              "            title=\"Convert this dataframe to an interactive table.\"\n",
              "            style=\"display:none;\">\n",
              "\n",
              "  <svg xmlns=\"http://www.w3.org/2000/svg\" height=\"24px\" viewBox=\"0 -960 960 960\">\n",
              "    <path d=\"M120-120v-720h720v720H120Zm60-500h600v-160H180v160Zm220 220h160v-160H400v160Zm0 220h160v-160H400v160ZM180-400h160v-160H180v160Zm440 0h160v-160H620v160ZM180-180h160v-160H180v160Zm440 0h160v-160H620v160Z\"/>\n",
              "  </svg>\n",
              "    </button>\n",
              "\n",
              "  <style>\n",
              "    .colab-df-container {\n",
              "      display:flex;\n",
              "      gap: 12px;\n",
              "    }\n",
              "\n",
              "    .colab-df-convert {\n",
              "      background-color: #E8F0FE;\n",
              "      border: none;\n",
              "      border-radius: 50%;\n",
              "      cursor: pointer;\n",
              "      display: none;\n",
              "      fill: #1967D2;\n",
              "      height: 32px;\n",
              "      padding: 0 0 0 0;\n",
              "      width: 32px;\n",
              "    }\n",
              "\n",
              "    .colab-df-convert:hover {\n",
              "      background-color: #E2EBFA;\n",
              "      box-shadow: 0px 1px 2px rgba(60, 64, 67, 0.3), 0px 1px 3px 1px rgba(60, 64, 67, 0.15);\n",
              "      fill: #174EA6;\n",
              "    }\n",
              "\n",
              "    .colab-df-buttons div {\n",
              "      margin-bottom: 4px;\n",
              "    }\n",
              "\n",
              "    [theme=dark] .colab-df-convert {\n",
              "      background-color: #3B4455;\n",
              "      fill: #D2E3FC;\n",
              "    }\n",
              "\n",
              "    [theme=dark] .colab-df-convert:hover {\n",
              "      background-color: #434B5C;\n",
              "      box-shadow: 0px 1px 3px 1px rgba(0, 0, 0, 0.15);\n",
              "      filter: drop-shadow(0px 1px 2px rgba(0, 0, 0, 0.3));\n",
              "      fill: #FFFFFF;\n",
              "    }\n",
              "  </style>\n",
              "\n",
              "    <script>\n",
              "      const buttonEl =\n",
              "        document.querySelector('#df-bf093b89-a1e4-4da9-8820-efad4eb30d9d button.colab-df-convert');\n",
              "      buttonEl.style.display =\n",
              "        google.colab.kernel.accessAllowed ? 'block' : 'none';\n",
              "\n",
              "      async function convertToInteractive(key) {\n",
              "        const element = document.querySelector('#df-bf093b89-a1e4-4da9-8820-efad4eb30d9d');\n",
              "        const dataTable =\n",
              "          await google.colab.kernel.invokeFunction('convertToInteractive',\n",
              "                                                    [key], {});\n",
              "        if (!dataTable) return;\n",
              "\n",
              "        const docLinkHtml = 'Like what you see? Visit the ' +\n",
              "          '<a target=\"_blank\" href=https://colab.research.google.com/notebooks/data_table.ipynb>data table notebook</a>'\n",
              "          + ' to learn more about interactive tables.';\n",
              "        element.innerHTML = '';\n",
              "        dataTable['output_type'] = 'display_data';\n",
              "        await google.colab.output.renderOutput(dataTable, element);\n",
              "        const docLink = document.createElement('div');\n",
              "        docLink.innerHTML = docLinkHtml;\n",
              "        element.appendChild(docLink);\n",
              "      }\n",
              "    </script>\n",
              "  </div>\n",
              "\n",
              "\n",
              "<div id=\"df-d4e2dece-c71e-4c2a-b74e-5bc71dbb0860\">\n",
              "  <button class=\"colab-df-quickchart\" onclick=\"quickchart('df-d4e2dece-c71e-4c2a-b74e-5bc71dbb0860')\"\n",
              "            title=\"Suggest charts\"\n",
              "            style=\"display:none;\">\n",
              "\n",
              "<svg xmlns=\"http://www.w3.org/2000/svg\" height=\"24px\"viewBox=\"0 0 24 24\"\n",
              "     width=\"24px\">\n",
              "    <g>\n",
              "        <path d=\"M19 3H5c-1.1 0-2 .9-2 2v14c0 1.1.9 2 2 2h14c1.1 0 2-.9 2-2V5c0-1.1-.9-2-2-2zM9 17H7v-7h2v7zm4 0h-2V7h2v10zm4 0h-2v-4h2v4z\"/>\n",
              "    </g>\n",
              "</svg>\n",
              "  </button>\n",
              "\n",
              "<style>\n",
              "  .colab-df-quickchart {\n",
              "      --bg-color: #E8F0FE;\n",
              "      --fill-color: #1967D2;\n",
              "      --hover-bg-color: #E2EBFA;\n",
              "      --hover-fill-color: #174EA6;\n",
              "      --disabled-fill-color: #AAA;\n",
              "      --disabled-bg-color: #DDD;\n",
              "  }\n",
              "\n",
              "  [theme=dark] .colab-df-quickchart {\n",
              "      --bg-color: #3B4455;\n",
              "      --fill-color: #D2E3FC;\n",
              "      --hover-bg-color: #434B5C;\n",
              "      --hover-fill-color: #FFFFFF;\n",
              "      --disabled-bg-color: #3B4455;\n",
              "      --disabled-fill-color: #666;\n",
              "  }\n",
              "\n",
              "  .colab-df-quickchart {\n",
              "    background-color: var(--bg-color);\n",
              "    border: none;\n",
              "    border-radius: 50%;\n",
              "    cursor: pointer;\n",
              "    display: none;\n",
              "    fill: var(--fill-color);\n",
              "    height: 32px;\n",
              "    padding: 0;\n",
              "    width: 32px;\n",
              "  }\n",
              "\n",
              "  .colab-df-quickchart:hover {\n",
              "    background-color: var(--hover-bg-color);\n",
              "    box-shadow: 0 1px 2px rgba(60, 64, 67, 0.3), 0 1px 3px 1px rgba(60, 64, 67, 0.15);\n",
              "    fill: var(--button-hover-fill-color);\n",
              "  }\n",
              "\n",
              "  .colab-df-quickchart-complete:disabled,\n",
              "  .colab-df-quickchart-complete:disabled:hover {\n",
              "    background-color: var(--disabled-bg-color);\n",
              "    fill: var(--disabled-fill-color);\n",
              "    box-shadow: none;\n",
              "  }\n",
              "\n",
              "  .colab-df-spinner {\n",
              "    border: 2px solid var(--fill-color);\n",
              "    border-color: transparent;\n",
              "    border-bottom-color: var(--fill-color);\n",
              "    animation:\n",
              "      spin 1s steps(1) infinite;\n",
              "  }\n",
              "\n",
              "  @keyframes spin {\n",
              "    0% {\n",
              "      border-color: transparent;\n",
              "      border-bottom-color: var(--fill-color);\n",
              "      border-left-color: var(--fill-color);\n",
              "    }\n",
              "    20% {\n",
              "      border-color: transparent;\n",
              "      border-left-color: var(--fill-color);\n",
              "      border-top-color: var(--fill-color);\n",
              "    }\n",
              "    30% {\n",
              "      border-color: transparent;\n",
              "      border-left-color: var(--fill-color);\n",
              "      border-top-color: var(--fill-color);\n",
              "      border-right-color: var(--fill-color);\n",
              "    }\n",
              "    40% {\n",
              "      border-color: transparent;\n",
              "      border-right-color: var(--fill-color);\n",
              "      border-top-color: var(--fill-color);\n",
              "    }\n",
              "    60% {\n",
              "      border-color: transparent;\n",
              "      border-right-color: var(--fill-color);\n",
              "    }\n",
              "    80% {\n",
              "      border-color: transparent;\n",
              "      border-right-color: var(--fill-color);\n",
              "      border-bottom-color: var(--fill-color);\n",
              "    }\n",
              "    90% {\n",
              "      border-color: transparent;\n",
              "      border-bottom-color: var(--fill-color);\n",
              "    }\n",
              "  }\n",
              "</style>\n",
              "\n",
              "  <script>\n",
              "    async function quickchart(key) {\n",
              "      const quickchartButtonEl =\n",
              "        document.querySelector('#' + key + ' button');\n",
              "      quickchartButtonEl.disabled = true;  // To prevent multiple clicks.\n",
              "      quickchartButtonEl.classList.add('colab-df-spinner');\n",
              "      try {\n",
              "        const charts = await google.colab.kernel.invokeFunction(\n",
              "            'suggestCharts', [key], {});\n",
              "      } catch (error) {\n",
              "        console.error('Error during call to suggestCharts:', error);\n",
              "      }\n",
              "      quickchartButtonEl.classList.remove('colab-df-spinner');\n",
              "      quickchartButtonEl.classList.add('colab-df-quickchart-complete');\n",
              "    }\n",
              "    (() => {\n",
              "      let quickchartButtonEl =\n",
              "        document.querySelector('#df-d4e2dece-c71e-4c2a-b74e-5bc71dbb0860 button');\n",
              "      quickchartButtonEl.style.display =\n",
              "        google.colab.kernel.accessAllowed ? 'block' : 'none';\n",
              "    })();\n",
              "  </script>\n",
              "</div>\n",
              "\n",
              "    </div>\n",
              "  </div>\n"
            ],
            "application/vnd.google.colaboratory.intrinsic+json": {
              "type": "dataframe",
              "summary": "{\n  \"name\": \"data\",\n  \"rows\": 8,\n  \"fields\": [\n    {\n      \"column\": \"produk_id\",\n      \"properties\": {\n        \"dtype\": \"number\",\n        \"std\": 197.9179596669068,\n        \"min\": 1.0,\n        \"max\": 550.0,\n        \"num_unique_values\": 6,\n        \"samples\": [\n          550.0,\n          275.5,\n          412.75\n        ],\n        \"semantic_type\": \"\",\n        \"description\": \"\"\n      }\n    },\n    {\n      \"column\": \"harga\",\n      \"properties\": {\n        \"dtype\": \"number\",\n        \"std\": 2808.96296621019,\n        \"min\": -213.0,\n        \"max\": 8341.0,\n        \"num_unique_values\": 8,\n        \"samples\": [\n          565.7153846153847,\n          516.0,\n          520.0\n        ],\n        \"semantic_type\": \"\",\n        \"description\": \"\"\n      }\n    },\n    {\n      \"column\": \"rating\",\n      \"properties\": {\n        \"dtype\": \"number\",\n        \"std\": 175.54050729187298,\n        \"min\": 0.5710523983693329,\n        \"max\": 500.0,\n        \"num_unique_values\": 8,\n        \"samples\": [\n          4.0056,\n          4.0,\n          500.0\n        ],\n        \"semantic_type\": \"\",\n        \"description\": \"\"\n      }\n    },\n    {\n      \"column\": \"jumlah_ulasan\",\n      \"properties\": {\n        \"dtype\": \"number\",\n        \"std\": 182.83956735825046,\n        \"min\": 12.0,\n        \"max\": 530.0,\n        \"num_unique_values\": 8,\n        \"samples\": [\n          259.6716981132075,\n          262.5,\n          530.0\n        ],\n        \"semantic_type\": \"\",\n        \"description\": \"\"\n      }\n    }\n  ]\n}"
            }
          },
          "metadata": {},
          "execution_count": 24
        }
      ]
    },
    {
      "cell_type": "markdown",
      "source": [
        "# 1b.  Tampilan Informasi Tipe Data Setiap Kolom dan Mengecek *Missing Values*"
      ],
      "metadata": {
        "id": "Mc-shEs2q4-1"
      }
    },
    {
      "cell_type": "code",
      "source": [
        "#Menampilkan informasi tipe data setiap kolom dan mengecek missing value dari masing-masing kolom\n",
        "data.info()"
      ],
      "metadata": {
        "colab": {
          "base_uri": "https://localhost:8080/"
        },
        "id": "sIKRt1Vfr5Nz",
        "outputId": "e73c76b7-6d10-43bf-a904-e5359001a069"
      },
      "execution_count": 25,
      "outputs": [
        {
          "output_type": "stream",
          "name": "stdout",
          "text": [
            "<class 'pandas.core.frame.DataFrame'>\n",
            "RangeIndex: 550 entries, 0 to 549\n",
            "Data columns (total 7 columns):\n",
            " #   Column         Non-Null Count  Dtype  \n",
            "---  ------         --------------  -----  \n",
            " 0   produk_id      550 non-null    int64  \n",
            " 1   nama_produk    550 non-null    object \n",
            " 2   kategori       550 non-null    object \n",
            " 3   harga          520 non-null    float64\n",
            " 4   rating         500 non-null    float64\n",
            " 5   jumlah_ulasan  530 non-null    float64\n",
            " 6   negara_asal    550 non-null    object \n",
            "dtypes: float64(3), int64(1), object(3)\n",
            "memory usage: 30.2+ KB\n"
          ]
        }
      ]
    },
    {
      "cell_type": "markdown",
      "source": [
        "Berdasarkan output diatas, dapat disimpulkan bahwa dataset tersebut memiliki 7 kolom, dengan jumlah maksimal baris untuk setiap kolomnya yaitu sebanyak 550 baris.\n",
        "\n",
        "**Tipe data** kolom produk_id yaitu int64; tipe data kolom nama_produk, kategori, dan negara_asal yaitu object; serta tipe data kolom harga, rating, dan jumlah_ulasan yaitu float64.\n",
        "\n",
        "Tetapi pada kolom harga, rating, dan jumlah_ulasan memiliki jumlah baris kurang dari 550, berarti **terdapat *missing value* di ketiga kolom** tersebut. Sehingga, akan dilakukan proses identifikasi lebih lanjut."
      ],
      "metadata": {
        "id": "RNL5KOtGsKBv"
      }
    },
    {
      "cell_type": "markdown",
      "source": [
        "# 2a. Deteksi Missing Value pada Dataset Tiap Kolom"
      ],
      "metadata": {
        "id": "1cXyeOs4tpCS"
      }
    },
    {
      "cell_type": "code",
      "source": [
        "#Mengetahui jumlah missing value di setiap kolom data\n",
        "np.sum(data.isnull())"
      ],
      "metadata": {
        "colab": {
          "base_uri": "https://localhost:8080/",
          "height": 358
        },
        "id": "4IhsvzvztCt3",
        "outputId": "0a446077-7123-4765-e61e-ac4435dfe8b3"
      },
      "execution_count": 26,
      "outputs": [
        {
          "output_type": "stream",
          "name": "stderr",
          "text": [
            "/usr/local/lib/python3.11/dist-packages/numpy/core/fromnumeric.py:86: FutureWarning: The behavior of DataFrame.sum with axis=None is deprecated, in a future version this will reduce over both axes and return a scalar. To retain the old behavior, pass axis=0 (or do not pass axis)\n",
            "  return reduction(axis=axis, out=out, **passkwargs)\n"
          ]
        },
        {
          "output_type": "execute_result",
          "data": {
            "text/plain": [
              "produk_id         0\n",
              "nama_produk       0\n",
              "kategori          0\n",
              "harga            30\n",
              "rating           50\n",
              "jumlah_ulasan    20\n",
              "negara_asal       0\n",
              "dtype: int64"
            ],
            "text/html": [
              "<div>\n",
              "<style scoped>\n",
              "    .dataframe tbody tr th:only-of-type {\n",
              "        vertical-align: middle;\n",
              "    }\n",
              "\n",
              "    .dataframe tbody tr th {\n",
              "        vertical-align: top;\n",
              "    }\n",
              "\n",
              "    .dataframe thead th {\n",
              "        text-align: right;\n",
              "    }\n",
              "</style>\n",
              "<table border=\"1\" class=\"dataframe\">\n",
              "  <thead>\n",
              "    <tr style=\"text-align: right;\">\n",
              "      <th></th>\n",
              "      <th>0</th>\n",
              "    </tr>\n",
              "  </thead>\n",
              "  <tbody>\n",
              "    <tr>\n",
              "      <th>produk_id</th>\n",
              "      <td>0</td>\n",
              "    </tr>\n",
              "    <tr>\n",
              "      <th>nama_produk</th>\n",
              "      <td>0</td>\n",
              "    </tr>\n",
              "    <tr>\n",
              "      <th>kategori</th>\n",
              "      <td>0</td>\n",
              "    </tr>\n",
              "    <tr>\n",
              "      <th>harga</th>\n",
              "      <td>30</td>\n",
              "    </tr>\n",
              "    <tr>\n",
              "      <th>rating</th>\n",
              "      <td>50</td>\n",
              "    </tr>\n",
              "    <tr>\n",
              "      <th>jumlah_ulasan</th>\n",
              "      <td>20</td>\n",
              "    </tr>\n",
              "    <tr>\n",
              "      <th>negara_asal</th>\n",
              "      <td>0</td>\n",
              "    </tr>\n",
              "  </tbody>\n",
              "</table>\n",
              "</div><br><label><b>dtype:</b> int64</label>"
            ]
          },
          "metadata": {},
          "execution_count": 26
        }
      ]
    },
    {
      "cell_type": "markdown",
      "source": [
        "Berdasarkan output summarize di atas, diperoleh bahwa kolom yang terdapat *missing value* (blanks/ N/A (Python : nan atau NaN)) adalah kolom harga dengan 30 *missing value*, kolom rating dengan 50 *missing value*, dan kolom jumlah_ulasan dengan 20 *missing value*."
      ],
      "metadata": {
        "id": "VDFQ-XSHuSTn"
      }
    },
    {
      "cell_type": "code",
      "source": [
        "#Melihat missing value pada data\n",
        "data.isnull()"
      ],
      "metadata": {
        "colab": {
          "base_uri": "https://localhost:8080/",
          "height": 423
        },
        "id": "NMkN39O6txN-",
        "outputId": "73373f62-4179-4f9f-8bf7-a44b3714bc64"
      },
      "execution_count": 27,
      "outputs": [
        {
          "output_type": "execute_result",
          "data": {
            "text/plain": [
              "     produk_id  nama_produk  kategori  harga  rating  jumlah_ulasan  \\\n",
              "0        False        False     False  False   False          False   \n",
              "1        False        False     False  False   False          False   \n",
              "2        False        False     False  False   False          False   \n",
              "3        False        False     False  False   False          False   \n",
              "4        False        False     False  False   False          False   \n",
              "..         ...          ...       ...    ...     ...            ...   \n",
              "545      False        False     False  False   False          False   \n",
              "546      False        False     False  False   False          False   \n",
              "547      False        False     False  False   False          False   \n",
              "548      False        False     False  False   False          False   \n",
              "549      False        False     False  False   False          False   \n",
              "\n",
              "     negara_asal  \n",
              "0          False  \n",
              "1          False  \n",
              "2          False  \n",
              "3          False  \n",
              "4          False  \n",
              "..           ...  \n",
              "545        False  \n",
              "546        False  \n",
              "547        False  \n",
              "548        False  \n",
              "549        False  \n",
              "\n",
              "[550 rows x 7 columns]"
            ],
            "text/html": [
              "\n",
              "  <div id=\"df-9bd0db97-5211-4400-9bb2-9fef8037ad24\" class=\"colab-df-container\">\n",
              "    <div>\n",
              "<style scoped>\n",
              "    .dataframe tbody tr th:only-of-type {\n",
              "        vertical-align: middle;\n",
              "    }\n",
              "\n",
              "    .dataframe tbody tr th {\n",
              "        vertical-align: top;\n",
              "    }\n",
              "\n",
              "    .dataframe thead th {\n",
              "        text-align: right;\n",
              "    }\n",
              "</style>\n",
              "<table border=\"1\" class=\"dataframe\">\n",
              "  <thead>\n",
              "    <tr style=\"text-align: right;\">\n",
              "      <th></th>\n",
              "      <th>produk_id</th>\n",
              "      <th>nama_produk</th>\n",
              "      <th>kategori</th>\n",
              "      <th>harga</th>\n",
              "      <th>rating</th>\n",
              "      <th>jumlah_ulasan</th>\n",
              "      <th>negara_asal</th>\n",
              "    </tr>\n",
              "  </thead>\n",
              "  <tbody>\n",
              "    <tr>\n",
              "      <th>0</th>\n",
              "      <td>False</td>\n",
              "      <td>False</td>\n",
              "      <td>False</td>\n",
              "      <td>False</td>\n",
              "      <td>False</td>\n",
              "      <td>False</td>\n",
              "      <td>False</td>\n",
              "    </tr>\n",
              "    <tr>\n",
              "      <th>1</th>\n",
              "      <td>False</td>\n",
              "      <td>False</td>\n",
              "      <td>False</td>\n",
              "      <td>False</td>\n",
              "      <td>False</td>\n",
              "      <td>False</td>\n",
              "      <td>False</td>\n",
              "    </tr>\n",
              "    <tr>\n",
              "      <th>2</th>\n",
              "      <td>False</td>\n",
              "      <td>False</td>\n",
              "      <td>False</td>\n",
              "      <td>False</td>\n",
              "      <td>False</td>\n",
              "      <td>False</td>\n",
              "      <td>False</td>\n",
              "    </tr>\n",
              "    <tr>\n",
              "      <th>3</th>\n",
              "      <td>False</td>\n",
              "      <td>False</td>\n",
              "      <td>False</td>\n",
              "      <td>False</td>\n",
              "      <td>False</td>\n",
              "      <td>False</td>\n",
              "      <td>False</td>\n",
              "    </tr>\n",
              "    <tr>\n",
              "      <th>4</th>\n",
              "      <td>False</td>\n",
              "      <td>False</td>\n",
              "      <td>False</td>\n",
              "      <td>False</td>\n",
              "      <td>False</td>\n",
              "      <td>False</td>\n",
              "      <td>False</td>\n",
              "    </tr>\n",
              "    <tr>\n",
              "      <th>...</th>\n",
              "      <td>...</td>\n",
              "      <td>...</td>\n",
              "      <td>...</td>\n",
              "      <td>...</td>\n",
              "      <td>...</td>\n",
              "      <td>...</td>\n",
              "      <td>...</td>\n",
              "    </tr>\n",
              "    <tr>\n",
              "      <th>545</th>\n",
              "      <td>False</td>\n",
              "      <td>False</td>\n",
              "      <td>False</td>\n",
              "      <td>False</td>\n",
              "      <td>False</td>\n",
              "      <td>False</td>\n",
              "      <td>False</td>\n",
              "    </tr>\n",
              "    <tr>\n",
              "      <th>546</th>\n",
              "      <td>False</td>\n",
              "      <td>False</td>\n",
              "      <td>False</td>\n",
              "      <td>False</td>\n",
              "      <td>False</td>\n",
              "      <td>False</td>\n",
              "      <td>False</td>\n",
              "    </tr>\n",
              "    <tr>\n",
              "      <th>547</th>\n",
              "      <td>False</td>\n",
              "      <td>False</td>\n",
              "      <td>False</td>\n",
              "      <td>False</td>\n",
              "      <td>False</td>\n",
              "      <td>False</td>\n",
              "      <td>False</td>\n",
              "    </tr>\n",
              "    <tr>\n",
              "      <th>548</th>\n",
              "      <td>False</td>\n",
              "      <td>False</td>\n",
              "      <td>False</td>\n",
              "      <td>False</td>\n",
              "      <td>False</td>\n",
              "      <td>False</td>\n",
              "      <td>False</td>\n",
              "    </tr>\n",
              "    <tr>\n",
              "      <th>549</th>\n",
              "      <td>False</td>\n",
              "      <td>False</td>\n",
              "      <td>False</td>\n",
              "      <td>False</td>\n",
              "      <td>False</td>\n",
              "      <td>False</td>\n",
              "      <td>False</td>\n",
              "    </tr>\n",
              "  </tbody>\n",
              "</table>\n",
              "<p>550 rows × 7 columns</p>\n",
              "</div>\n",
              "    <div class=\"colab-df-buttons\">\n",
              "\n",
              "  <div class=\"colab-df-container\">\n",
              "    <button class=\"colab-df-convert\" onclick=\"convertToInteractive('df-9bd0db97-5211-4400-9bb2-9fef8037ad24')\"\n",
              "            title=\"Convert this dataframe to an interactive table.\"\n",
              "            style=\"display:none;\">\n",
              "\n",
              "  <svg xmlns=\"http://www.w3.org/2000/svg\" height=\"24px\" viewBox=\"0 -960 960 960\">\n",
              "    <path d=\"M120-120v-720h720v720H120Zm60-500h600v-160H180v160Zm220 220h160v-160H400v160Zm0 220h160v-160H400v160ZM180-400h160v-160H180v160Zm440 0h160v-160H620v160ZM180-180h160v-160H180v160Zm440 0h160v-160H620v160Z\"/>\n",
              "  </svg>\n",
              "    </button>\n",
              "\n",
              "  <style>\n",
              "    .colab-df-container {\n",
              "      display:flex;\n",
              "      gap: 12px;\n",
              "    }\n",
              "\n",
              "    .colab-df-convert {\n",
              "      background-color: #E8F0FE;\n",
              "      border: none;\n",
              "      border-radius: 50%;\n",
              "      cursor: pointer;\n",
              "      display: none;\n",
              "      fill: #1967D2;\n",
              "      height: 32px;\n",
              "      padding: 0 0 0 0;\n",
              "      width: 32px;\n",
              "    }\n",
              "\n",
              "    .colab-df-convert:hover {\n",
              "      background-color: #E2EBFA;\n",
              "      box-shadow: 0px 1px 2px rgba(60, 64, 67, 0.3), 0px 1px 3px 1px rgba(60, 64, 67, 0.15);\n",
              "      fill: #174EA6;\n",
              "    }\n",
              "\n",
              "    .colab-df-buttons div {\n",
              "      margin-bottom: 4px;\n",
              "    }\n",
              "\n",
              "    [theme=dark] .colab-df-convert {\n",
              "      background-color: #3B4455;\n",
              "      fill: #D2E3FC;\n",
              "    }\n",
              "\n",
              "    [theme=dark] .colab-df-convert:hover {\n",
              "      background-color: #434B5C;\n",
              "      box-shadow: 0px 1px 3px 1px rgba(0, 0, 0, 0.15);\n",
              "      filter: drop-shadow(0px 1px 2px rgba(0, 0, 0, 0.3));\n",
              "      fill: #FFFFFF;\n",
              "    }\n",
              "  </style>\n",
              "\n",
              "    <script>\n",
              "      const buttonEl =\n",
              "        document.querySelector('#df-9bd0db97-5211-4400-9bb2-9fef8037ad24 button.colab-df-convert');\n",
              "      buttonEl.style.display =\n",
              "        google.colab.kernel.accessAllowed ? 'block' : 'none';\n",
              "\n",
              "      async function convertToInteractive(key) {\n",
              "        const element = document.querySelector('#df-9bd0db97-5211-4400-9bb2-9fef8037ad24');\n",
              "        const dataTable =\n",
              "          await google.colab.kernel.invokeFunction('convertToInteractive',\n",
              "                                                    [key], {});\n",
              "        if (!dataTable) return;\n",
              "\n",
              "        const docLinkHtml = 'Like what you see? Visit the ' +\n",
              "          '<a target=\"_blank\" href=https://colab.research.google.com/notebooks/data_table.ipynb>data table notebook</a>'\n",
              "          + ' to learn more about interactive tables.';\n",
              "        element.innerHTML = '';\n",
              "        dataTable['output_type'] = 'display_data';\n",
              "        await google.colab.output.renderOutput(dataTable, element);\n",
              "        const docLink = document.createElement('div');\n",
              "        docLink.innerHTML = docLinkHtml;\n",
              "        element.appendChild(docLink);\n",
              "      }\n",
              "    </script>\n",
              "  </div>\n",
              "\n",
              "\n",
              "<div id=\"df-284515a4-c340-424c-b8ed-cac6c5ff2482\">\n",
              "  <button class=\"colab-df-quickchart\" onclick=\"quickchart('df-284515a4-c340-424c-b8ed-cac6c5ff2482')\"\n",
              "            title=\"Suggest charts\"\n",
              "            style=\"display:none;\">\n",
              "\n",
              "<svg xmlns=\"http://www.w3.org/2000/svg\" height=\"24px\"viewBox=\"0 0 24 24\"\n",
              "     width=\"24px\">\n",
              "    <g>\n",
              "        <path d=\"M19 3H5c-1.1 0-2 .9-2 2v14c0 1.1.9 2 2 2h14c1.1 0 2-.9 2-2V5c0-1.1-.9-2-2-2zM9 17H7v-7h2v7zm4 0h-2V7h2v10zm4 0h-2v-4h2v4z\"/>\n",
              "    </g>\n",
              "</svg>\n",
              "  </button>\n",
              "\n",
              "<style>\n",
              "  .colab-df-quickchart {\n",
              "      --bg-color: #E8F0FE;\n",
              "      --fill-color: #1967D2;\n",
              "      --hover-bg-color: #E2EBFA;\n",
              "      --hover-fill-color: #174EA6;\n",
              "      --disabled-fill-color: #AAA;\n",
              "      --disabled-bg-color: #DDD;\n",
              "  }\n",
              "\n",
              "  [theme=dark] .colab-df-quickchart {\n",
              "      --bg-color: #3B4455;\n",
              "      --fill-color: #D2E3FC;\n",
              "      --hover-bg-color: #434B5C;\n",
              "      --hover-fill-color: #FFFFFF;\n",
              "      --disabled-bg-color: #3B4455;\n",
              "      --disabled-fill-color: #666;\n",
              "  }\n",
              "\n",
              "  .colab-df-quickchart {\n",
              "    background-color: var(--bg-color);\n",
              "    border: none;\n",
              "    border-radius: 50%;\n",
              "    cursor: pointer;\n",
              "    display: none;\n",
              "    fill: var(--fill-color);\n",
              "    height: 32px;\n",
              "    padding: 0;\n",
              "    width: 32px;\n",
              "  }\n",
              "\n",
              "  .colab-df-quickchart:hover {\n",
              "    background-color: var(--hover-bg-color);\n",
              "    box-shadow: 0 1px 2px rgba(60, 64, 67, 0.3), 0 1px 3px 1px rgba(60, 64, 67, 0.15);\n",
              "    fill: var(--button-hover-fill-color);\n",
              "  }\n",
              "\n",
              "  .colab-df-quickchart-complete:disabled,\n",
              "  .colab-df-quickchart-complete:disabled:hover {\n",
              "    background-color: var(--disabled-bg-color);\n",
              "    fill: var(--disabled-fill-color);\n",
              "    box-shadow: none;\n",
              "  }\n",
              "\n",
              "  .colab-df-spinner {\n",
              "    border: 2px solid var(--fill-color);\n",
              "    border-color: transparent;\n",
              "    border-bottom-color: var(--fill-color);\n",
              "    animation:\n",
              "      spin 1s steps(1) infinite;\n",
              "  }\n",
              "\n",
              "  @keyframes spin {\n",
              "    0% {\n",
              "      border-color: transparent;\n",
              "      border-bottom-color: var(--fill-color);\n",
              "      border-left-color: var(--fill-color);\n",
              "    }\n",
              "    20% {\n",
              "      border-color: transparent;\n",
              "      border-left-color: var(--fill-color);\n",
              "      border-top-color: var(--fill-color);\n",
              "    }\n",
              "    30% {\n",
              "      border-color: transparent;\n",
              "      border-left-color: var(--fill-color);\n",
              "      border-top-color: var(--fill-color);\n",
              "      border-right-color: var(--fill-color);\n",
              "    }\n",
              "    40% {\n",
              "      border-color: transparent;\n",
              "      border-right-color: var(--fill-color);\n",
              "      border-top-color: var(--fill-color);\n",
              "    }\n",
              "    60% {\n",
              "      border-color: transparent;\n",
              "      border-right-color: var(--fill-color);\n",
              "    }\n",
              "    80% {\n",
              "      border-color: transparent;\n",
              "      border-right-color: var(--fill-color);\n",
              "      border-bottom-color: var(--fill-color);\n",
              "    }\n",
              "    90% {\n",
              "      border-color: transparent;\n",
              "      border-bottom-color: var(--fill-color);\n",
              "    }\n",
              "  }\n",
              "</style>\n",
              "\n",
              "  <script>\n",
              "    async function quickchart(key) {\n",
              "      const quickchartButtonEl =\n",
              "        document.querySelector('#' + key + ' button');\n",
              "      quickchartButtonEl.disabled = true;  // To prevent multiple clicks.\n",
              "      quickchartButtonEl.classList.add('colab-df-spinner');\n",
              "      try {\n",
              "        const charts = await google.colab.kernel.invokeFunction(\n",
              "            'suggestCharts', [key], {});\n",
              "      } catch (error) {\n",
              "        console.error('Error during call to suggestCharts:', error);\n",
              "      }\n",
              "      quickchartButtonEl.classList.remove('colab-df-spinner');\n",
              "      quickchartButtonEl.classList.add('colab-df-quickchart-complete');\n",
              "    }\n",
              "    (() => {\n",
              "      let quickchartButtonEl =\n",
              "        document.querySelector('#df-284515a4-c340-424c-b8ed-cac6c5ff2482 button');\n",
              "      quickchartButtonEl.style.display =\n",
              "        google.colab.kernel.accessAllowed ? 'block' : 'none';\n",
              "    })();\n",
              "  </script>\n",
              "</div>\n",
              "\n",
              "    </div>\n",
              "  </div>\n"
            ],
            "application/vnd.google.colaboratory.intrinsic+json": {
              "type": "dataframe",
              "summary": "{\n  \"name\": \"data\",\n  \"rows\": 550,\n  \"fields\": [\n    {\n      \"column\": \"produk_id\",\n      \"properties\": {\n        \"dtype\": \"boolean\",\n        \"num_unique_values\": 1,\n        \"samples\": [\n          false\n        ],\n        \"semantic_type\": \"\",\n        \"description\": \"\"\n      }\n    },\n    {\n      \"column\": \"nama_produk\",\n      \"properties\": {\n        \"dtype\": \"boolean\",\n        \"num_unique_values\": 1,\n        \"samples\": [\n          false\n        ],\n        \"semantic_type\": \"\",\n        \"description\": \"\"\n      }\n    },\n    {\n      \"column\": \"kategori\",\n      \"properties\": {\n        \"dtype\": \"boolean\",\n        \"num_unique_values\": 1,\n        \"samples\": [\n          false\n        ],\n        \"semantic_type\": \"\",\n        \"description\": \"\"\n      }\n    },\n    {\n      \"column\": \"harga\",\n      \"properties\": {\n        \"dtype\": \"boolean\",\n        \"num_unique_values\": 2,\n        \"samples\": [\n          true\n        ],\n        \"semantic_type\": \"\",\n        \"description\": \"\"\n      }\n    },\n    {\n      \"column\": \"rating\",\n      \"properties\": {\n        \"dtype\": \"boolean\",\n        \"num_unique_values\": 2,\n        \"samples\": [\n          true\n        ],\n        \"semantic_type\": \"\",\n        \"description\": \"\"\n      }\n    },\n    {\n      \"column\": \"jumlah_ulasan\",\n      \"properties\": {\n        \"dtype\": \"boolean\",\n        \"num_unique_values\": 2,\n        \"samples\": [\n          true\n        ],\n        \"semantic_type\": \"\",\n        \"description\": \"\"\n      }\n    },\n    {\n      \"column\": \"negara_asal\",\n      \"properties\": {\n        \"dtype\": \"boolean\",\n        \"num_unique_values\": 1,\n        \"samples\": [\n          false\n        ],\n        \"semantic_type\": \"\",\n        \"description\": \"\"\n      }\n    }\n  ]\n}"
            }
          },
          "metadata": {},
          "execution_count": 27
        }
      ]
    },
    {
      "cell_type": "code",
      "source": [
        "#Mengetahui jumlah missing value di seluruh dataset\n",
        "data.isnull().sum().sum()"
      ],
      "metadata": {
        "colab": {
          "base_uri": "https://localhost:8080/"
        },
        "id": "OrKCywdCsFjL",
        "outputId": "4fa57dda-a47f-4d6b-84aa-c3eca98bf72f"
      },
      "execution_count": 28,
      "outputs": [
        {
          "output_type": "execute_result",
          "data": {
            "text/plain": [
              "100"
            ]
          },
          "metadata": {},
          "execution_count": 28
        }
      ]
    },
    {
      "cell_type": "markdown",
      "source": [
        "Berdasarkan output di atas, diperoleh bahwa jumlah *missing value* di seluruh dataset yaitu 100 *missing value*."
      ],
      "metadata": {
        "id": "MKF4BwDvTep2"
      }
    },
    {
      "cell_type": "markdown",
      "source": [
        "# 2b. Bagaimana Keberadaan *Missing Values* dapat Memengaruhi Analisis Data?"
      ],
      "metadata": {
        "id": "uol2EWluVNGt"
      }
    },
    {
      "cell_type": "markdown",
      "source": [
        "*Missing value* yang ada pada dataset dapat menyebabkan kesalahan hasil analisis dan kesimpulan yang tidak sesuai dengan yang diharapkan. Selain itu, ada beberapa mesin algoritma yang tidak memperbolehkan adanya *missing value* dalam sebuah data. Berikut beberapa hal yang dapat diakibatkan oleh adanya *missing value*.\n",
        "*   Bias statistik\n",
        "    \n",
        "    *Missing values* dapat menyebabkan bias dalam perhitungan statistik deskriptif seperti rata-rata dan deviasi standar. Hal ini dapat mengakibatkan representasi yang tidak akurat dari distribusi data sebenarnya.\n",
        "*   Pengurangan daya inferensial\n",
        "    \n",
        "    Keberadaan *missing values* dapat mengurangi kekuatan statistik dan akurasi hasil pengujian hipotesis. Hal ini membuat interpretasi hasil menjadi kurang.\n",
        "*   Ketidakpastian dalam pengambilan keputusan\n",
        "   \n",
        "    Keberadaan *missing values* dapat menimbulkan ketidakpastian dalam proses pengambilan keputusan. Keputusan yang diambil berdasarkan data yang tidak lengkap dapat memiliki konsekuensi yang tidak diinginkan.\n",
        "*   Gangguan pada konsistensi dan kelangsungan analisis\n",
        "   \n",
        "    *Missing values* dapat mengganggu konsistensi analisis data, terutama jika penanganan yang konsisten tidak diterapkan. Hal ini dapat menghambat proses pengembangan model dan evaluasi kinerja."
      ],
      "metadata": {
        "id": "lKlLmbqzc3Ef"
      }
    },
    {
      "cell_type": "markdown",
      "source": [],
      "metadata": {
        "id": "jqjz-_mCunff"
      }
    },
    {
      "cell_type": "markdown",
      "source": [
        "Dalam *machine learning*, *missing values* adalah masalah umum yang harus ditangani sebelum model dapat digunakan. Ada beberapa metode untuk menangani *missing values*, tergantung pada jenis data dan karakteristik distribusinya. Dalam proses *preprocessing* dataset ini akan dilakukan penanganan *missing value* pada kolom harga, rating, dan jumah_ulasan"
      ],
      "metadata": {
        "id": "4-5rW3rFuujt"
      }
    },
    {
      "cell_type": "markdown",
      "source": [
        "# 2c dan 2d bagian 1: Penanganan Missing Value pada Kolom harga"
      ],
      "metadata": {
        "id": "4k3vAe9Bu4gD"
      }
    },
    {
      "cell_type": "code",
      "source": [
        "#Melihat isi dalam kolom harga\n",
        "data['harga'].unique()"
      ],
      "metadata": {
        "colab": {
          "base_uri": "https://localhost:8080/"
        },
        "id": "VFhbyVlRu_bB",
        "outputId": "c358c2a0-1b25-406b-f3f0-d600c4954fcf"
      },
      "execution_count": 29,
      "outputs": [
        {
          "output_type": "execute_result",
          "data": {
            "text/plain": [
              "array([ 7.460e+02,  2.410e+02,  8.100e+02,  3.030e+02,  2.520e+02,\n",
              "        3.350e+02,  8.900e+02,  4.910e+02,  6.050e+02,  4.630e+02,\n",
              "        4.810e+02,  3.980e+02,  5.100e+02,  5.980e+02,  8.350e+02,\n",
              "        1.250e+02,  8.220e+02,  4.260e+02,  3.900e+02,  7.080e+02,\n",
              "        5.450e+02,        nan,  5.720e+02,  7.280e+02,  6.710e+02,\n",
              "        3.740e+02,  2.310e+02,  4.340e+02,  1.150e+03,  3.310e+02,\n",
              "        5.780e+02,  4.750e+02,  4.590e+02,  9.040e+02,  4.970e+02,\n",
              "        5.400e+02,  3.390e+02,  2.110e+02,  8.620e+02,  5.800e+02,\n",
              "        5.180e+02,  5.160e+02,  4.480e+02,  7.360e+02,  2.280e+02,\n",
              "        1.830e+02,  5.150e+02,  7.120e+02,  5.470e+02,  4.360e+02,\n",
              "        5.910e+02,  5.370e+02,  6.650e+02,  7.650e+02,  3.090e+02,\n",
              "        4.290e+02,  2.960e+02,  6.660e+02,  3.550e+02,  1.240e+02,\n",
              "        3.850e+02,  2.010e+02,  8.180e+02,  5.940e+02,  6.290e+02,\n",
              "        6.070e+02,  6.680e+02,  7.260e+02,  3.920e+02,  2.160e+02,\n",
              "        3.300e+02,  4.900e+02, -1.200e+01,  1.200e+02,  6.190e+02,\n",
              "        4.660e+02,  5.570e+02,  4.050e+02,  5.430e+02,  3.880e+02,\n",
              "        3.200e+02,  8.050e+02,  5.730e+02,  5.410e+02,  3.240e+02,\n",
              "        4.530e+02,  3.020e+02,  4.010e+02,  2.580e+02,  8.170e+02,\n",
              "        3.480e+02,  2.340e+02,  3.450e+02,  3.700e+02,  1.790e+02,\n",
              "        1.970e+02,  6.350e+02,  6.560e+02,  5.300e+02,  2.530e+02,\n",
              "        7.790e+02,  4.100e+02,  8.341e+03,  7.740e+02,  3.640e+02,\n",
              "        7.300e+02,  4.240e+02,  3.610e+02,  5.210e+02,  5.680e+02,\n",
              "        8.820e+02,  5.630e+02,  5.380e+02,  8.190e+02,  6.200e+02,\n",
              "        7.710e+02,  3.520e+02,  3.120e+02,  5.660e+02, -1.950e+02,\n",
              "        4.460e+02,  3.960e+02,  6.780e+02,  4.220e+02,  7.290e+02,\n",
              "        5.460e+02,  6.600e+02,  5.480e+02,  6.640e+02,  9.100e+02,\n",
              "        5.500e+02,  4.090e+02,  9.400e+01,  4.470e+02,  6.060e+02,\n",
              "        8.810e+02,  4.610e+02,  7.830e+02,  5.920e+02,  6.170e+02,\n",
              "        1.950e+02,  7.410e+02,  5.750e+02,  2.250e+02,  5.970e+02,\n",
              "        8.700e+01,  9.680e+02,  2.790e+02,  3.370e+02,  6.120e+02,\n",
              "        3.170e+02,  6.990e+02,  4.520e+02,  5.930e+02,  5.030e+02,\n",
              "        2.260e+02,  6.000e+02,  3.990e+02,  7.090e+02,  4.840e+02,\n",
              "        8.360e+02,  9.760e+02,  6.570e+02,  4.420e+02,  4.250e+02,\n",
              "        3.360e+02,  4.450e+02,  8.920e+02,  4.600e+02,  2.540e+02,\n",
              "        5.080e+02,  5.070e+02,  6.590e+02,  5.130e+02,  6.530e+02,\n",
              "        3.430e+02,  8.560e+02,  6.300e+02,  2.660e+02,  1.680e+02,\n",
              "        5.580e+02,  4.020e+02,  5.510e+02,  1.870e+02,  4.300e+02,\n",
              "        7.700e+01,  7.680e+02,  2.380e+02,  3.750e+02,  8.290e+02,\n",
              "        7.950e+02,  8.970e+02,  2.720e+02,  7.123e+03,  1.720e+02,\n",
              "        5.990e+02,  4.580e+02,  4.400e+01,  5.290e+02,  8.590e+02,\n",
              "        4.850e+02,  6.130e+02,  1.500e+02,  1.023e+03,  4.130e+02,\n",
              "        6.280e+02,  8.690e+02,  5.530e+02,  4.570e+02,  5.270e+02,\n",
              "        6.520e+02,  5.020e+02,  6.760e+02,  1.630e+02,  8.990e+02,\n",
              "        8.960e+02,  6.250e+02,  2.970e+02,  9.770e+02,  3.790e+02,\n",
              "        5.900e+02,  6.360e+02,  4.710e+02,  6.330e+02,  4.620e+02,\n",
              "        6.150e+02,  6.270e+02,  4.110e+02,  6.210e+02,  8.410e+02,\n",
              "        8.540e+02,  4.200e+02,  6.610e+02,  8.020e+02,  1.270e+02,\n",
              "        6.370e+02,  3.200e+01,  4.200e+01,  7.860e+02,  7.420e+02,\n",
              "        3.230e+02,  6.020e+02,  5.950e+02,  6.940e+02,  6.440e+02,\n",
              "        4.140e+02,  4.890e+02,  8.680e+02,  4.180e+02,  5.520e+02,\n",
              "        5.100e+01,  9.510e+02,  3.130e+02,  1.134e+03,  5.360e+02,\n",
              "       -1.400e+01,  7.660e+02,  6.430e+02,  8.130e+02,  2.640e+02,\n",
              "        3.630e+02,  1.640e+02,  3.780e+02,  5.420e+02,  6.730e+02,\n",
              "        7.600e+02,  4.000e+02,  5.830e+02,  2.800e+02,  6.230e+02,\n",
              "        3.730e+02,  3.160e+02,  5.490e+02,  7.100e+02,  4.500e+02,\n",
              "        4.860e+02,  4.920e+02,  5.840e+03,  2.610e+02,  5.550e+02,\n",
              "        3.560e+02,  6.810e+02,  3.650e+02,  3.680e+02,  5.890e+02,\n",
              "        9.550e+02,  1.740e+02,  7.250e+02,  3.840e+02,  3.250e+02,\n",
              "        1.770e+02,  7.690e+02,  2.130e+02,  7.930e+02,  5.600e+02,\n",
              "        7.330e+02,  7.070e+02,  2.990e+02,  9.850e+02,  8.890e+02,\n",
              "        3.870e+02, -2.130e+02,  4.280e+02,  3.860e+02,  4.550e+02,\n",
              "        3.340e+02,  6.840e+02,  5.120e+02,  6.900e+02,  7.440e+02,\n",
              "        6.500e+01,  1.014e+03,  6.620e+02,  1.230e+02,  5.280e+02,\n",
              "        6.950e+02,  6.720e+02,  5.598e+03,  1.610e+02,  3.190e+02,\n",
              "        7.730e+02,  6.910e+02,  6.490e+02,  7.010e+02,  4.800e+02,\n",
              "        4.040e+02,  7.030e+02,  7.500e+02,  5.330e+02,  3.040e+02,\n",
              "        4.960e+02,  4.870e+02,  8.400e+02,  5.170e+02,  3.410e+02,\n",
              "        8.240e+02,  2.910e+02,  5.590e+02,  6.240e+02,  5.250e+02,\n",
              "        4.990e+02, -1.500e+01,  5.620e+02,  4.150e+02,  6.420e+02,\n",
              "        2.330e+02,  4.560e+02,  4.350e+02,  4.160e+02,  7.900e+02,\n",
              "        5.740e+02,  4.760e+02,  4.540e+02,  5.860e+02,  6.080e+02,\n",
              "        5.260e+02,  6.030e+02,  5.224e+03,  2.760e+02,  1.560e+02,\n",
              "        5.560e+02,  4.430e+02,  2.900e+02,  7.600e+01,  1.430e+02,\n",
              "        8.200e+02,  3.400e+02,  4.380e+02,  6.320e+02,  7.020e+02,\n",
              "        3.260e+02,  7.560e+02,  6.670e+02,  7.050e+02,  4.230e+02,\n",
              "        5.200e+02,  3.930e+02,  1.090e+02,  4.440e+02,  5.710e+02,\n",
              "        3.820e+02,  4.690e+02, -4.200e+01,  7.590e+02,  6.800e+02,\n",
              "        9.700e+01, -5.000e+00,  7.880e+02,  1.190e+02,  5.350e+02,\n",
              "        7.770e+02, -2.900e+01,  6.450e+02,  4.650e+02,  4.950e+02])"
            ]
          },
          "metadata": {},
          "execution_count": 29
        }
      ]
    },
    {
      "cell_type": "code",
      "source": [
        "#Mengetahui jumlah missing value kolom harga\n",
        "np.sum(data['harga'].isnull())"
      ],
      "metadata": {
        "colab": {
          "base_uri": "https://localhost:8080/"
        },
        "id": "qh9l9837L0_4",
        "outputId": "d148cb07-cf23-48a1-fd80-1749ee64c218"
      },
      "execution_count": 30,
      "outputs": [
        {
          "output_type": "execute_result",
          "data": {
            "text/plain": [
              "30"
            ]
          },
          "metadata": {},
          "execution_count": 30
        }
      ]
    },
    {
      "cell_type": "markdown",
      "source": [
        "Berdasarkan output tersebut, dapat dilihat bahwa kolom harga mengandung detail *missing values* 'nan' dengan total jumlah *missing value* yaitu 30. Sehingga perlu untuk mengisi *missing value* tersebut.\n",
        "\n",
        "Jika terdapat *missing values* (nan), kita bisa mengisinya dengan beberapa metode:\n",
        "\n",
        "1. Gunakan Mean, jika distribusi normal dan tidak ada angka ekstrem. Bisa\n",
        "   digunakan jika rata-rata harga produk cukup stabil. Rata-rata dapat berupa desimal.\n",
        "2. Gunakan Median, jika ada outlier, seperti produk tanpa harga atau banyak\n",
        "   harga. Median lebih aman jika ada produk dengan harga yang jauh lebih banyak dari yang lain.\n",
        "3. Gunakan Mode, jika sebagian besar produk memiliki harga yang sama.\n",
        "\n",
        "Berdasarkan uji normalitas menggunakan Kolmogorov-Smirnov pada SPSS menunjukkan bahwa data pada kolom harga memperoleh nilai sig = 0,000 < 0,05, artinya data tidak berdistribusi normal. Kemudian terdapat angka ekstrem pada data harga.\n",
        "Sehingga ada dua kemungkinan untuk mengisi *missing value* yang dapat dipilih, yaitu median atau modus.\n",
        "\n",
        "Jika kita tidak mengecek distribusi data, maka kita harus membuat asumsi yang logis dan umum berdasarkan jenis data yang kita miliki. Berikut ssumsi untuk kolom harga produk:\n",
        "Harga adalah data numerik (kontinu) yang menunjukkan harga produk. Sebagian besar produk memiliki harga yang standar. Data harga bisa saja memiliki outlier (produk murah vs. produk sangat mahal). Berdasarkan asumsi ini, ada dua skenario logis untuk mengisi *missing values*:\n",
        "*   Jika mayoritas produk berharga standar, gunakan mean. Jika terdapat banyak\n",
        "    produk murah dan sangat mahal (*skewed*), gunakan median. Karena kita tidak mengecek distribusi data, kita bisa menggunakan pendekatan standar dalam analisis data.\n",
        "*   Jika tidak yakin dan ingin pendekatan aman, gunakan median karena lebih\n",
        "    tahan terhadap outlier. Jika outlier bisa diabaikan atau kita asumsikan tidak ada, gunakan mean.\n",
        "\n",
        "Ternyata setelah dilakukan identifikasi outlier menggunakan IQR, diperoleh bahwa tidak terdapat outlier pada kolom harga.\n",
        "Oleh karena data pada kolom harga data tidak berdistribusi normal dan terdapat outlier sebanyak 14 outlier, sehingga untuk **mengisi missing value pada kolom harga akan menggunakan median**."
      ],
      "metadata": {
        "id": "hD4u2hl_MHFJ"
      }
    },
    {
      "cell_type": "code",
      "source": [
        "#Mengisi missing value pada kolom harga mengggunakan median\n",
        "data['harga']=data['harga'].fillna(data['harga'].median())"
      ],
      "metadata": {
        "id": "B_Y4LXTFu3qe"
      },
      "execution_count": 31,
      "outputs": []
    },
    {
      "cell_type": "code",
      "source": [
        "#Mengetahui jumlah missing value pada kolom harga setelah dilakukan pengisian missing value\n",
        "np.sum(data['harga'].isnull())"
      ],
      "metadata": {
        "colab": {
          "base_uri": "https://localhost:8080/"
        },
        "id": "qnkz5AvJN-J-",
        "outputId": "edb452ef-235b-48a5-d42f-eee0463a3efa"
      },
      "execution_count": 32,
      "outputs": [
        {
          "output_type": "execute_result",
          "data": {
            "text/plain": [
              "0"
            ]
          },
          "metadata": {},
          "execution_count": 32
        }
      ]
    },
    {
      "cell_type": "code",
      "source": [
        "#Melihat isi dalam kolom harga\n",
        "data['harga'].unique()"
      ],
      "metadata": {
        "colab": {
          "base_uri": "https://localhost:8080/"
        },
        "id": "DeQTVmx7sH2k",
        "outputId": "00cc45cd-c61b-4e5e-e558-d9b886394f79"
      },
      "execution_count": 33,
      "outputs": [
        {
          "output_type": "execute_result",
          "data": {
            "text/plain": [
              "array([ 7.460e+02,  2.410e+02,  8.100e+02,  3.030e+02,  2.520e+02,\n",
              "        3.350e+02,  8.900e+02,  4.910e+02,  6.050e+02,  4.630e+02,\n",
              "        4.810e+02,  3.980e+02,  5.100e+02,  5.980e+02,  8.350e+02,\n",
              "        1.250e+02,  8.220e+02,  4.260e+02,  3.900e+02,  7.080e+02,\n",
              "        5.450e+02,  5.160e+02,  5.720e+02,  7.280e+02,  6.710e+02,\n",
              "        3.740e+02,  2.310e+02,  4.340e+02,  1.150e+03,  3.310e+02,\n",
              "        5.780e+02,  4.750e+02,  4.590e+02,  9.040e+02,  4.970e+02,\n",
              "        5.400e+02,  3.390e+02,  2.110e+02,  8.620e+02,  5.800e+02,\n",
              "        5.180e+02,  4.480e+02,  7.360e+02,  2.280e+02,  1.830e+02,\n",
              "        5.150e+02,  7.120e+02,  5.470e+02,  4.360e+02,  5.910e+02,\n",
              "        5.370e+02,  6.650e+02,  7.650e+02,  3.090e+02,  4.290e+02,\n",
              "        2.960e+02,  6.660e+02,  3.550e+02,  1.240e+02,  3.850e+02,\n",
              "        2.010e+02,  8.180e+02,  5.940e+02,  6.290e+02,  6.070e+02,\n",
              "        6.680e+02,  7.260e+02,  3.920e+02,  2.160e+02,  3.300e+02,\n",
              "        4.900e+02, -1.200e+01,  1.200e+02,  6.190e+02,  4.660e+02,\n",
              "        5.570e+02,  4.050e+02,  5.430e+02,  3.880e+02,  3.200e+02,\n",
              "        8.050e+02,  5.730e+02,  5.410e+02,  3.240e+02,  4.530e+02,\n",
              "        3.020e+02,  4.010e+02,  2.580e+02,  8.170e+02,  3.480e+02,\n",
              "        2.340e+02,  3.450e+02,  3.700e+02,  1.790e+02,  1.970e+02,\n",
              "        6.350e+02,  6.560e+02,  5.300e+02,  2.530e+02,  7.790e+02,\n",
              "        4.100e+02,  8.341e+03,  7.740e+02,  3.640e+02,  7.300e+02,\n",
              "        4.240e+02,  3.610e+02,  5.210e+02,  5.680e+02,  8.820e+02,\n",
              "        5.630e+02,  5.380e+02,  8.190e+02,  6.200e+02,  7.710e+02,\n",
              "        3.520e+02,  3.120e+02,  5.660e+02, -1.950e+02,  4.460e+02,\n",
              "        3.960e+02,  6.780e+02,  4.220e+02,  7.290e+02,  5.460e+02,\n",
              "        6.600e+02,  5.480e+02,  6.640e+02,  9.100e+02,  5.500e+02,\n",
              "        4.090e+02,  9.400e+01,  4.470e+02,  6.060e+02,  8.810e+02,\n",
              "        4.610e+02,  7.830e+02,  5.920e+02,  6.170e+02,  1.950e+02,\n",
              "        7.410e+02,  5.750e+02,  2.250e+02,  5.970e+02,  8.700e+01,\n",
              "        9.680e+02,  2.790e+02,  3.370e+02,  6.120e+02,  3.170e+02,\n",
              "        6.990e+02,  4.520e+02,  5.930e+02,  5.030e+02,  2.260e+02,\n",
              "        6.000e+02,  3.990e+02,  7.090e+02,  4.840e+02,  8.360e+02,\n",
              "        9.760e+02,  6.570e+02,  4.420e+02,  4.250e+02,  3.360e+02,\n",
              "        4.450e+02,  8.920e+02,  4.600e+02,  2.540e+02,  5.080e+02,\n",
              "        5.070e+02,  6.590e+02,  5.130e+02,  6.530e+02,  3.430e+02,\n",
              "        8.560e+02,  6.300e+02,  2.660e+02,  1.680e+02,  5.580e+02,\n",
              "        4.020e+02,  5.510e+02,  1.870e+02,  4.300e+02,  7.700e+01,\n",
              "        7.680e+02,  2.380e+02,  3.750e+02,  8.290e+02,  7.950e+02,\n",
              "        8.970e+02,  2.720e+02,  7.123e+03,  1.720e+02,  5.990e+02,\n",
              "        4.580e+02,  4.400e+01,  5.290e+02,  8.590e+02,  4.850e+02,\n",
              "        6.130e+02,  1.500e+02,  1.023e+03,  4.130e+02,  6.280e+02,\n",
              "        8.690e+02,  5.530e+02,  4.570e+02,  5.270e+02,  6.520e+02,\n",
              "        5.020e+02,  6.760e+02,  1.630e+02,  8.990e+02,  8.960e+02,\n",
              "        6.250e+02,  2.970e+02,  9.770e+02,  3.790e+02,  5.900e+02,\n",
              "        6.360e+02,  4.710e+02,  6.330e+02,  4.620e+02,  6.150e+02,\n",
              "        6.270e+02,  4.110e+02,  6.210e+02,  8.410e+02,  8.540e+02,\n",
              "        4.200e+02,  6.610e+02,  8.020e+02,  1.270e+02,  6.370e+02,\n",
              "        3.200e+01,  4.200e+01,  7.860e+02,  7.420e+02,  3.230e+02,\n",
              "        6.020e+02,  5.950e+02,  6.940e+02,  6.440e+02,  4.140e+02,\n",
              "        4.890e+02,  8.680e+02,  4.180e+02,  5.520e+02,  5.100e+01,\n",
              "        9.510e+02,  3.130e+02,  1.134e+03,  5.360e+02, -1.400e+01,\n",
              "        7.660e+02,  6.430e+02,  8.130e+02,  2.640e+02,  3.630e+02,\n",
              "        1.640e+02,  3.780e+02,  5.420e+02,  6.730e+02,  7.600e+02,\n",
              "        4.000e+02,  5.830e+02,  2.800e+02,  6.230e+02,  3.730e+02,\n",
              "        3.160e+02,  5.490e+02,  7.100e+02,  4.500e+02,  4.860e+02,\n",
              "        4.920e+02,  5.840e+03,  2.610e+02,  5.550e+02,  3.560e+02,\n",
              "        6.810e+02,  3.650e+02,  3.680e+02,  5.890e+02,  9.550e+02,\n",
              "        1.740e+02,  7.250e+02,  3.840e+02,  3.250e+02,  1.770e+02,\n",
              "        7.690e+02,  2.130e+02,  7.930e+02,  5.600e+02,  7.330e+02,\n",
              "        7.070e+02,  2.990e+02,  9.850e+02,  8.890e+02,  3.870e+02,\n",
              "       -2.130e+02,  4.280e+02,  3.860e+02,  4.550e+02,  3.340e+02,\n",
              "        6.840e+02,  5.120e+02,  6.900e+02,  7.440e+02,  6.500e+01,\n",
              "        1.014e+03,  6.620e+02,  1.230e+02,  5.280e+02,  6.950e+02,\n",
              "        6.720e+02,  5.598e+03,  1.610e+02,  3.190e+02,  7.730e+02,\n",
              "        6.910e+02,  6.490e+02,  7.010e+02,  4.800e+02,  4.040e+02,\n",
              "        7.030e+02,  7.500e+02,  5.330e+02,  3.040e+02,  4.960e+02,\n",
              "        4.870e+02,  8.400e+02,  5.170e+02,  3.410e+02,  8.240e+02,\n",
              "        2.910e+02,  5.590e+02,  6.240e+02,  5.250e+02,  4.990e+02,\n",
              "       -1.500e+01,  5.620e+02,  4.150e+02,  6.420e+02,  2.330e+02,\n",
              "        4.560e+02,  4.350e+02,  4.160e+02,  7.900e+02,  5.740e+02,\n",
              "        4.760e+02,  4.540e+02,  5.860e+02,  6.080e+02,  5.260e+02,\n",
              "        6.030e+02,  5.224e+03,  2.760e+02,  1.560e+02,  5.560e+02,\n",
              "        4.430e+02,  2.900e+02,  7.600e+01,  1.430e+02,  8.200e+02,\n",
              "        3.400e+02,  4.380e+02,  6.320e+02,  7.020e+02,  3.260e+02,\n",
              "        7.560e+02,  6.670e+02,  7.050e+02,  4.230e+02,  5.200e+02,\n",
              "        3.930e+02,  1.090e+02,  4.440e+02,  5.710e+02,  3.820e+02,\n",
              "        4.690e+02, -4.200e+01,  7.590e+02,  6.800e+02,  9.700e+01,\n",
              "       -5.000e+00,  7.880e+02,  1.190e+02,  5.350e+02,  7.770e+02,\n",
              "       -2.900e+01,  6.450e+02,  4.650e+02,  4.950e+02])"
            ]
          },
          "metadata": {},
          "execution_count": 33
        }
      ]
    },
    {
      "cell_type": "markdown",
      "source": [
        "Setelah dilakukan pengisian *missing value* pada kolom harga menggunakan Median, dapat dilihat bahwa sudah tidak ada lagi 'nan' atau *missing value* pada kolom harga."
      ],
      "metadata": {
        "id": "8CjuCefDmZnT"
      }
    },
    {
      "cell_type": "markdown",
      "source": [
        "# 2c dan 2d bagian 2: Penanganan Missing Value pada Kolom rating"
      ],
      "metadata": {
        "id": "9aSMx7wdOCvo"
      }
    },
    {
      "cell_type": "code",
      "source": [
        "#Melihat isi dalam kolom rating\n",
        "data['rating'].unique()"
      ],
      "metadata": {
        "colab": {
          "base_uri": "https://localhost:8080/"
        },
        "id": "Xv_OwZzmOSBj",
        "outputId": "253b5768-c939-4de0-d6a8-dda0a2a2c64c"
      },
      "execution_count": 34,
      "outputs": [
        {
          "output_type": "execute_result",
          "data": {
            "text/plain": [
              "array([4.2, 3.5, 3.8, 3.2, 3.7, 4. , 4.5, 3. , 3.9, 3.6, 4.7, 4.4, nan,\n",
              "       3.1, 4.9, 4.6, 5. , 4.8, 4.3, 3.4, 4.1, 3.3])"
            ]
          },
          "metadata": {},
          "execution_count": 34
        }
      ]
    },
    {
      "cell_type": "code",
      "source": [
        "#Melihat jumlah missing value pada kolom rating\n",
        "np.sum(data['rating'].isnull())"
      ],
      "metadata": {
        "colab": {
          "base_uri": "https://localhost:8080/"
        },
        "id": "FkX2AwRIOY75",
        "outputId": "257f76ae-129e-4e5b-9c58-b5e01bfdd3c1"
      },
      "execution_count": 35,
      "outputs": [
        {
          "output_type": "execute_result",
          "data": {
            "text/plain": [
              "50"
            ]
          },
          "metadata": {},
          "execution_count": 35
        }
      ]
    },
    {
      "cell_type": "markdown",
      "source": [
        "Berdasarkan output tersebut, dapat dilihat bahwa kolom rating mengandung detail *missing value* 'nan' dengan total jumlah *missing value* yaitu 50. Sehingga perlu untuk mengisi *missing value* tersebut.\n",
        "\n",
        "Jika terdapat *missing value* (nan), kita bisa mengisinya dengan beberapa metode:\n",
        "\n",
        "1. Gunakan mean, jika distribusi normal dan tidak ada angka ekstrem. Bisa\n",
        "   digunakan jika rata-rata rating produk cukup stabil. Rata-rata dapat berupa desimal.\n",
        "2. Gunakan median, jika ada outlier, seperti produk tanpa rating atau banyak\n",
        "   rating. Median lebih aman jika ada produk dengan rating yang jauh lebih tinggi dari yang lain.\n",
        "3. Gunakan mode, jika sebagian besar produk memiliki rating yang sama.\n",
        "\n",
        "Berdasarkan uji normalitas menggunakan Kolmogorov-Smirnov pada SPSS menunjukkan bahwa data pada kolom rating memperoleh nilai sig = 0,000 < 0,05, artinya data tidak berdistribusi normal. Tetapi, tidak ada angka ekstrem pada kolom rating karena rating berkisar antara 3.1 sampai 4.9; dan rata-rata rating cukup stabil.\n",
        "Sehingga ada dua kemungkinan untuk mengisi missing value yang dapat dipilih, yaitu mean atau median.\n",
        "\n",
        "Jika kita tidak mengecek distribusi data, maka kita harus membuat asumsi yang logis dan umum berdasarkan jenis data yang kita miliki. Berikut ssumsi untuk kolom rating produk:\n",
        "Rating adalah data numerik (kontinu) yang menunjukkan rating dari produk. Sebagian besar produk memiliki rating yang standar. Data rating bisa saja memiliki outlier (produk dengan rating rendah vs. produk dengan rating yang sangat tinggi mahal). Berdasarkan asumsi ini, ada dua skenario logis untuk mengisi *missing values*:\n",
        "*   Jika mayoritas produk memiliki rating standar, gunakan mean. Jika terdapat\n",
        "    banyak produk dengan rating rendah dan rating yang sangat tinggi (*skewed*), gunakan median. Karena kita tidak mengecek distribusi data, kita bisa menggunakan pendekatan standar dalam analisis data.\n",
        "*   Jika tidak yakin dan ingin pendekatan aman, gunakan median karena lebih\n",
        "    tahan terhadap outlier. Jika outlier bisa diabaikan atau kita asumsikan tidak ada, gunakan mean.\n",
        "\n",
        "Ternyata setelah dilakukan identifikasi outlier menggunakan IQR, diperoleh bahwa tidak terdapat outlier pada kolom rating.\n",
        "Oleh karena data pada kolom rating data tidak berdistribusi normal dan tidak terdapat outlier, sehingga **untuk mengisi missing value pada kolom rating akan menggunakan mean**."
      ],
      "metadata": {
        "id": "wNi50E4qOe5z"
      }
    },
    {
      "cell_type": "code",
      "source": [
        "#Mengisi missing value pada kolom rating mengggunakan mean\n",
        "data['rating']=data['rating'].fillna(data['rating'].mean())"
      ],
      "metadata": {
        "id": "Zxaq-qEpPG4T"
      },
      "execution_count": 36,
      "outputs": []
    },
    {
      "cell_type": "code",
      "source": [
        "#Melihat jumlah missing value pada kolom rating\n",
        "np.sum(data['rating'].isnull())"
      ],
      "metadata": {
        "colab": {
          "base_uri": "https://localhost:8080/"
        },
        "id": "BV7oOeDMPa0p",
        "outputId": "8d8551a7-bd08-475d-890e-88f2904549f1"
      },
      "execution_count": 37,
      "outputs": [
        {
          "output_type": "execute_result",
          "data": {
            "text/plain": [
              "0"
            ]
          },
          "metadata": {},
          "execution_count": 37
        }
      ]
    },
    {
      "cell_type": "code",
      "source": [
        "#Melihat isi dalam kolom rating\n",
        "data['rating'].unique()"
      ],
      "metadata": {
        "colab": {
          "base_uri": "https://localhost:8080/"
        },
        "id": "iOwPqbb5Pel9",
        "outputId": "58e7f614-9c84-4abd-cc48-9a82b63572a3"
      },
      "execution_count": 38,
      "outputs": [
        {
          "output_type": "execute_result",
          "data": {
            "text/plain": [
              "array([4.2   , 3.5   , 3.8   , 3.2   , 3.7   , 4.    , 4.5   , 3.    ,\n",
              "       3.9   , 3.6   , 4.7   , 4.4   , 4.0056, 3.1   , 4.9   , 4.6   ,\n",
              "       5.    , 4.8   , 4.3   , 3.4   , 4.1   , 3.3   ])"
            ]
          },
          "metadata": {},
          "execution_count": 38
        }
      ]
    },
    {
      "cell_type": "markdown",
      "source": [
        "Setelah dilakukan pengisian missing value pada kolom rating menggunakan Mode, dapat dilihat bahwa sudah tidak ada lagi 'nan' atau missing value pada kolom rating."
      ],
      "metadata": {
        "id": "142PAEmpr0PE"
      }
    },
    {
      "cell_type": "markdown",
      "source": [
        "# 2c dan 2d bagian 3: Penanganan Missing Value pada Kolom jumlah_ulasan"
      ],
      "metadata": {
        "id": "Pa2rH3R9OMUA"
      }
    },
    {
      "cell_type": "code",
      "source": [
        "#Melihat isi dalam kolom jumlah_ulasan\n",
        "data['jumlah_ulasan'].unique()"
      ],
      "metadata": {
        "colab": {
          "base_uri": "https://localhost:8080/"
        },
        "id": "nHZdy-CsPj6n",
        "outputId": "ec7f5347-1459-4cdf-93c0-24d9cab33518"
      },
      "execution_count": 39,
      "outputs": [
        {
          "output_type": "execute_result",
          "data": {
            "text/plain": [
              "array([273., 239., 209.,  59.,  76., 309., 390.,  67., 268.,  nan, 335.,\n",
              "       139., 224., 181., 267., 111., 218., 300., 363., 480., 295., 125.,\n",
              "       159., 451.,  45., 462., 342., 486., 296., 312., 320., 217., 115.,\n",
              "       455., 167., 130.,  64., 409.,  21., 154., 405., 145., 477.,  12.,\n",
              "       153.,  39., 246., 288., 357., 113., 127.,  14., 257., 373., 330.,\n",
              "       158.,  93., 463., 475., 465., 240., 297., 170., 281., 469.,  47.,\n",
              "       235., 151., 301., 490., 160., 123.,  75., 370., 350., 484., 258.,\n",
              "       466., 458., 340., 332., 189., 199., 416., 163., 205., 271., 428.,\n",
              "       415., 436., 152., 351., 110., 253., 499., 248.,  58.,  51., 175.,\n",
              "        91., 438., 225., 471., 143., 345.,  16., 445.,  23.,  82., 408.,\n",
              "       414., 172., 356., 215., 285., 265., 275.,  34., 459., 290., 262.,\n",
              "       319., 298., 173., 104., 119., 247., 396., 492., 434., 399., 150.,\n",
              "       126., 491., 401., 461.,  88.,  77., 182., 453., 137., 105., 101.,\n",
              "        40., 343.,  29., 155., 325., 456., 169., 358.,  52., 263.,  69.,\n",
              "       476., 427., 354., 391., 276., 187., 424.,  65., 472.,  92., 402.,\n",
              "       108., 338., 165., 380., 272., 261., 106., 269., 112.,  49., 282.,\n",
              "       368., 389., 317., 230., 429., 133., 431.,  72., 494., 200.,  71.,\n",
              "       164., 479., 464., 238.,  95., 142., 192., 395., 228., 255., 147.,\n",
              "       323., 385., 432., 398.,  74.,  22., 222., 483., 190., 347., 474.,\n",
              "       197., 404., 291.,  43.,  61., 121., 241., 236., 242., 422.,  30.,\n",
              "       406., 122., 114., 201.,  26., 129., 138.,  57.,  38.,  19., 286.,\n",
              "       293., 212., 256., 299., 452., 223., 442., 410., 352., 353., 425.,\n",
              "       437.,  96.,  17., 394., 118., 444., 417., 161., 157., 375., 237.,\n",
              "       148., 220., 400.,  37.,  60., 270., 359., 361., 329., 120., 489.,\n",
              "       377., 229., 346., 232., 369., 418., 443., 460.,  87., 178., 226.,\n",
              "       387., 128., 264., 379., 149., 497., 383., 278., 360.,  20., 280.,\n",
              "       433., 411., 162., 324., 482., 287., 423., 183., 131.,  41., 231.,\n",
              "        48., 277., 440.,  27., 135., 311., 144., 245., 233., 244.,  31.,\n",
              "       294., 292.,  97.,  53., 470., 180., 430., 198., 362., 193.,  28.,\n",
              "        32., 304., 117., 376., 371., 195.,  81., 397., 393.])"
            ]
          },
          "metadata": {},
          "execution_count": 39
        }
      ]
    },
    {
      "cell_type": "code",
      "source": [
        "#Melihat jumlah missing value pada kolom jumlah_ulasan\n",
        "np.sum(data['jumlah_ulasan'].isnull())"
      ],
      "metadata": {
        "colab": {
          "base_uri": "https://localhost:8080/"
        },
        "id": "S4WQw9pqPqX2",
        "outputId": "a26bb8ae-b021-47fd-fdd8-28daf74869a8"
      },
      "execution_count": 40,
      "outputs": [
        {
          "output_type": "execute_result",
          "data": {
            "text/plain": [
              "20"
            ]
          },
          "metadata": {},
          "execution_count": 40
        }
      ]
    },
    {
      "cell_type": "markdown",
      "source": [
        "Berdasarkan output tersebut, dapat dilihat bahwa kolom jumlah_ulasan mengandung detail *missing value* 'nan' dengan total jumlah *missing value* yaitu 20. Sehingga perlu untuk mengisi *missing value* tersebut.\n",
        "\n",
        "Jika terdapat *missing value* (nan), kita bisa mengisinya dengan beberapa metode:\n",
        "\n",
        "1. Gunakan Mean, jika distribusi normal dan tidak ada angka ekstrem. Bisa\n",
        "   digunakan jika rata-rata jumlah_ulasan produk cukup stabil. Rata-rata dapat berupa desimal.\n",
        "2. Gunakan Median, jika ada outlier, seperti produk tanpa jumlah_ulasan atau\n",
        "   banyak jumlah_ulasan. Median lebih aman jika ada produk dengan jumlah_ulasan yang jauh lebih tinggi dari yang lain.\n",
        "3. Gunakan Mode, jika sebagian besar produk memiliki jumlah_ulasan yang sama.\n",
        "\n",
        "Berdasarkan uji normalitas menggunakan Kolmogorov-Smirnov pada SPSS menunjukkan bahwa data pada kolom jumlah_ulasan memperoleh nilai sig = 0,000 < 0,05, artinya data tidak berdistribusi normal.\n",
        "Sehingga ada dua kemungkinan untuk mengisi *missing value* yang dapat dipilih, yaitu median atau modus.\n",
        "\n",
        "Jika kita tidak mengecek distribusi data, maka kita harus membuat asumsi yang logis dan umum berdasarkan jenis data yang kita miliki. Berikut ssumsi untuk kolom jumlah_ulasan produk:\n",
        "Jumlah_ulasan adalah data numerik (kontinu) yang menunjukkan jumlah_ulasan dari produk. Sebagian besar produk memiliki jumlah_ulasan yang standar. Data jumlah_ulasan bisa saja memiliki outlier (produk dengan jumlah_ulasan rendah vs. produk dengan jumlah_ulasan yang sangat tinggi). Berdasarkan asumsi ini, ada dua skenario logis untuk mengisi *missing values*:\n",
        "*   Jika mayoritas produk memiliki jumlah_ulasan standar, gunakan mean. Jika\n",
        "    terdapat banyak produk dengan jumlah_ulasan rendah dan jumlah_ulasan yang sangat tinggi (skewed), gunakan median. Karena kita tidak mengecek distribusi data, kita bisa menggunakan pendekatan standar dalam analisis data.\n",
        "*   Jika tidak yakin dan ingin pendekatan aman, gunakan median karena lebih\n",
        "    tahan terhadap outlier. Jika outlier bisa diabaikan atau kita asumsikan tidak ada, gunakan mean.\n",
        "\n",
        "Ternyata setelah dilakukan identifikasi outlier menggunakan IQR, diperoleh bahwa tidak terdapat outlier pada kolom jumlah_ulasan.\n",
        "Oleh karena data pada kolom ratjumlah_ulasaning data tidak berdistribusi normal dan tidak terdapat outlier, sehingga **untuk mengisi missing value pada kolom rating akan menggunakan median**."
      ],
      "metadata": {
        "id": "SglP9mVRP1aS"
      }
    },
    {
      "cell_type": "code",
      "source": [
        "#Mengisi missing value pada kolom jumlah_ulasan menggunakan Median\n",
        "data['jumlah_ulasan']=data['jumlah_ulasan'].fillna(data['jumlah_ulasan'].median())"
      ],
      "metadata": {
        "id": "GBD1RQsuQdQj"
      },
      "execution_count": 41,
      "outputs": []
    },
    {
      "cell_type": "code",
      "source": [
        "#Mengetahui jumlah missing value pada kolom jumlah_ulasan setelah dilakukan pengisian missing value\n",
        "np.sum(data['jumlah_ulasan'].isnull())"
      ],
      "metadata": {
        "colab": {
          "base_uri": "https://localhost:8080/"
        },
        "id": "6q0cQ-PxQkqP",
        "outputId": "8c47376b-1a33-4b3b-e935-ccc139e51813"
      },
      "execution_count": 42,
      "outputs": [
        {
          "output_type": "execute_result",
          "data": {
            "text/plain": [
              "0"
            ]
          },
          "metadata": {},
          "execution_count": 42
        }
      ]
    },
    {
      "cell_type": "code",
      "source": [
        "#Melihat isi dalam kolom jumlah_ulasan\n",
        "data['jumlah_ulasan'].unique()"
      ],
      "metadata": {
        "colab": {
          "base_uri": "https://localhost:8080/"
        },
        "id": "_Ow73bVOLH66",
        "outputId": "e90ed682-9c84-410c-9fe3-cd17c28234b4"
      },
      "execution_count": 43,
      "outputs": [
        {
          "output_type": "execute_result",
          "data": {
            "text/plain": [
              "array([273. , 239. , 209. ,  59. ,  76. , 309. , 390. ,  67. , 268. ,\n",
              "       262.5, 335. , 139. , 224. , 181. , 267. , 111. , 218. , 300. ,\n",
              "       363. , 480. , 295. , 125. , 159. , 451. ,  45. , 462. , 342. ,\n",
              "       486. , 296. , 312. , 320. , 217. , 115. , 455. , 167. , 130. ,\n",
              "        64. , 409. ,  21. , 154. , 405. , 145. , 477. ,  12. , 153. ,\n",
              "        39. , 246. , 288. , 357. , 113. , 127. ,  14. , 257. , 373. ,\n",
              "       330. , 158. ,  93. , 463. , 475. , 465. , 240. , 297. , 170. ,\n",
              "       281. , 469. ,  47. , 235. , 151. , 301. , 490. , 160. , 123. ,\n",
              "        75. , 370. , 350. , 484. , 258. , 466. , 458. , 340. , 332. ,\n",
              "       189. , 199. , 416. , 163. , 205. , 271. , 428. , 415. , 436. ,\n",
              "       152. , 351. , 110. , 253. , 499. , 248. ,  58. ,  51. , 175. ,\n",
              "        91. , 438. , 225. , 471. , 143. , 345. ,  16. , 445. ,  23. ,\n",
              "        82. , 408. , 414. , 172. , 356. , 215. , 285. , 265. , 275. ,\n",
              "        34. , 459. , 290. , 262. , 319. , 298. , 173. , 104. , 119. ,\n",
              "       247. , 396. , 492. , 434. , 399. , 150. , 126. , 491. , 401. ,\n",
              "       461. ,  88. ,  77. , 182. , 453. , 137. , 105. , 101. ,  40. ,\n",
              "       343. ,  29. , 155. , 325. , 456. , 169. , 358. ,  52. , 263. ,\n",
              "        69. , 476. , 427. , 354. , 391. , 276. , 187. , 424. ,  65. ,\n",
              "       472. ,  92. , 402. , 108. , 338. , 165. , 380. , 272. , 261. ,\n",
              "       106. , 269. , 112. ,  49. , 282. , 368. , 389. , 317. , 230. ,\n",
              "       429. , 133. , 431. ,  72. , 494. , 200. ,  71. , 164. , 479. ,\n",
              "       464. , 238. ,  95. , 142. , 192. , 395. , 228. , 255. , 147. ,\n",
              "       323. , 385. , 432. , 398. ,  74. ,  22. , 222. , 483. , 190. ,\n",
              "       347. , 474. , 197. , 404. , 291. ,  43. ,  61. , 121. , 241. ,\n",
              "       236. , 242. , 422. ,  30. , 406. , 122. , 114. , 201. ,  26. ,\n",
              "       129. , 138. ,  57. ,  38. ,  19. , 286. , 293. , 212. , 256. ,\n",
              "       299. , 452. , 223. , 442. , 410. , 352. , 353. , 425. , 437. ,\n",
              "        96. ,  17. , 394. , 118. , 444. , 417. , 161. , 157. , 375. ,\n",
              "       237. , 148. , 220. , 400. ,  37. ,  60. , 270. , 359. , 361. ,\n",
              "       329. , 120. , 489. , 377. , 229. , 346. , 232. , 369. , 418. ,\n",
              "       443. , 460. ,  87. , 178. , 226. , 387. , 128. , 264. , 379. ,\n",
              "       149. , 497. , 383. , 278. , 360. ,  20. , 280. , 433. , 411. ,\n",
              "       162. , 324. , 482. , 287. , 423. , 183. , 131. ,  41. , 231. ,\n",
              "        48. , 277. , 440. ,  27. , 135. , 311. , 144. , 245. , 233. ,\n",
              "       244. ,  31. , 294. , 292. ,  97. ,  53. , 470. , 180. , 430. ,\n",
              "       198. , 362. , 193. ,  28. ,  32. , 304. , 117. , 376. , 371. ,\n",
              "       195. ,  81. , 397. , 393. ])"
            ]
          },
          "metadata": {},
          "execution_count": 43
        }
      ]
    },
    {
      "cell_type": "markdown",
      "source": [
        "Setelah dilakukan pengisian *missing value* pada kolom jumlah_ulasan menggunakan median, dapat dilihat bahwa sudah tidak ada lagi 'nan' atau *missing value* pada kolom jumlah_ulasan."
      ],
      "metadata": {
        "id": "3AltPjOkK8Dr"
      }
    },
    {
      "cell_type": "code",
      "source": [
        "#Melihat jumlah missing value setiap kolom data\n",
        "np.sum(data.isnull())"
      ],
      "metadata": {
        "colab": {
          "base_uri": "https://localhost:8080/",
          "height": 358
        },
        "id": "-E-eUJ1UQwXv",
        "outputId": "642f0c92-fe51-4914-b6a7-edef536f56f8"
      },
      "execution_count": 44,
      "outputs": [
        {
          "output_type": "stream",
          "name": "stderr",
          "text": [
            "/usr/local/lib/python3.11/dist-packages/numpy/core/fromnumeric.py:86: FutureWarning: The behavior of DataFrame.sum with axis=None is deprecated, in a future version this will reduce over both axes and return a scalar. To retain the old behavior, pass axis=0 (or do not pass axis)\n",
            "  return reduction(axis=axis, out=out, **passkwargs)\n"
          ]
        },
        {
          "output_type": "execute_result",
          "data": {
            "text/plain": [
              "produk_id        0\n",
              "nama_produk      0\n",
              "kategori         0\n",
              "harga            0\n",
              "rating           0\n",
              "jumlah_ulasan    0\n",
              "negara_asal      0\n",
              "dtype: int64"
            ],
            "text/html": [
              "<div>\n",
              "<style scoped>\n",
              "    .dataframe tbody tr th:only-of-type {\n",
              "        vertical-align: middle;\n",
              "    }\n",
              "\n",
              "    .dataframe tbody tr th {\n",
              "        vertical-align: top;\n",
              "    }\n",
              "\n",
              "    .dataframe thead th {\n",
              "        text-align: right;\n",
              "    }\n",
              "</style>\n",
              "<table border=\"1\" class=\"dataframe\">\n",
              "  <thead>\n",
              "    <tr style=\"text-align: right;\">\n",
              "      <th></th>\n",
              "      <th>0</th>\n",
              "    </tr>\n",
              "  </thead>\n",
              "  <tbody>\n",
              "    <tr>\n",
              "      <th>produk_id</th>\n",
              "      <td>0</td>\n",
              "    </tr>\n",
              "    <tr>\n",
              "      <th>nama_produk</th>\n",
              "      <td>0</td>\n",
              "    </tr>\n",
              "    <tr>\n",
              "      <th>kategori</th>\n",
              "      <td>0</td>\n",
              "    </tr>\n",
              "    <tr>\n",
              "      <th>harga</th>\n",
              "      <td>0</td>\n",
              "    </tr>\n",
              "    <tr>\n",
              "      <th>rating</th>\n",
              "      <td>0</td>\n",
              "    </tr>\n",
              "    <tr>\n",
              "      <th>jumlah_ulasan</th>\n",
              "      <td>0</td>\n",
              "    </tr>\n",
              "    <tr>\n",
              "      <th>negara_asal</th>\n",
              "      <td>0</td>\n",
              "    </tr>\n",
              "  </tbody>\n",
              "</table>\n",
              "</div><br><label><b>dtype:</b> int64</label>"
            ]
          },
          "metadata": {},
          "execution_count": 44
        }
      ]
    },
    {
      "cell_type": "code",
      "source": [
        "data.info()"
      ],
      "metadata": {
        "colab": {
          "base_uri": "https://localhost:8080/"
        },
        "id": "LIaeiAqGQ0Ni",
        "outputId": "cc18586d-766e-4659-b9f4-6c579da5634c"
      },
      "execution_count": 45,
      "outputs": [
        {
          "output_type": "stream",
          "name": "stdout",
          "text": [
            "<class 'pandas.core.frame.DataFrame'>\n",
            "RangeIndex: 550 entries, 0 to 549\n",
            "Data columns (total 7 columns):\n",
            " #   Column         Non-Null Count  Dtype  \n",
            "---  ------         --------------  -----  \n",
            " 0   produk_id      550 non-null    int64  \n",
            " 1   nama_produk    550 non-null    object \n",
            " 2   kategori       550 non-null    object \n",
            " 3   harga          550 non-null    float64\n",
            " 4   rating         550 non-null    float64\n",
            " 5   jumlah_ulasan  550 non-null    float64\n",
            " 6   negara_asal    550 non-null    object \n",
            "dtypes: float64(3), int64(1), object(3)\n",
            "memory usage: 30.2+ KB\n"
          ]
        }
      ]
    },
    {
      "cell_type": "markdown",
      "source": [
        "Setelah mengisi *missing value* pada kolom harga, rating, dan jumlah_ulasan, terlihat bahwa jumlah baris di setiap kolom dataset sudah mencapai 550 baris. Artinya, sudah tidak ada lagi missing value pada dataset."
      ],
      "metadata": {
        "id": "NM0KSPwJM_Nj"
      }
    },
    {
      "cell_type": "markdown",
      "source": [
        "# 3a. Identifikasi Outlier dalam Dataset"
      ],
      "metadata": {
        "id": "RVIVdTYWQ7zD"
      }
    },
    {
      "cell_type": "markdown",
      "source": [
        "Cek Outlier dapat dideteksi menggunakan beberapa metode:\n",
        "1.   Boxplot → Visualisasi distribusi dan outlier\n",
        "2.   Interquartile Range (IQR) → Mengidentifikasi outlier berdasarkan distribusi kuartil"
      ],
      "metadata": {
        "id": "lNo5rphAQ_up"
      }
    },
    {
      "cell_type": "markdown",
      "source": [
        "1. Boxplot"
      ],
      "metadata": {
        "id": "4Fs_kfv8RELD"
      }
    },
    {
      "cell_type": "code",
      "source": [
        "import matplotlib.pyplot as plt\n",
        "import seaborn as sns\n",
        "\n",
        "# Kolom numerik yang ingin dicek outliernya\n",
        "num_cols = ['produk_id','harga', 'rating', 'jumlah_ulasan']\n",
        "\n",
        "# Visualisasi Boxplot\n",
        "plt.figure(figsize=(15, 8))\n",
        "for i, col in enumerate(num_cols, 1):\n",
        "    plt.subplot(3, 4, i)\n",
        "    sns.boxplot(y=data[col])\n",
        "    plt.title(col)\n",
        "plt.tight_layout()\n",
        "plt.show()"
      ],
      "metadata": {
        "colab": {
          "base_uri": "https://localhost:8080/",
          "height": 237
        },
        "id": "gEd-NLaoRHL5",
        "outputId": "b745acac-a6a6-466e-d625-4c2709585511"
      },
      "execution_count": 46,
      "outputs": [
        {
          "output_type": "display_data",
          "data": {
            "text/plain": [
              "<Figure size 1500x800 with 4 Axes>"
            ],
            "image/png": "[encoded data removed]"
          },
          "metadata": {}
        }
      ]
    },
    {
      "cell_type": "markdown",
      "source": [
        "2. IQR"
      ],
      "metadata": {
        "id": "T-5wnYcMRvzZ"
      }
    },
    {
      "cell_type": "code",
      "source": [
        "import matplotlib.pyplot as plt\n",
        "import seaborn as sns"
      ],
      "metadata": {
        "id": "HDXDnxkZWsny"
      },
      "execution_count": 47,
      "outputs": []
    },
    {
      "cell_type": "code",
      "source": [
        "def detect_outliers_iqr(data, column):\n",
        "    Q1 = data[column].quantile(0.25)  # Kuartil 1\n",
        "    Q3 = data[column].quantile(0.75)  # Kuartil 3\n",
        "    IQR = Q3 - Q1  # Rentang interkuartil\n",
        "    lower_bound = Q1 - 1.5 * IQR\n",
        "    upper_bound = Q3 + 1.5 * IQR\n",
        "    return data[(data[column] < lower_bound) | (data[column] > upper_bound)]\n",
        "\n",
        "# Cek jumlah outlier untuk setiap kolom numerik\n",
        "for col in num_cols:\n",
        "    outliers = detect_outliers_iqr(data, col)\n",
        "    print(f\"{col}: {len(outliers)} outliers\")"
      ],
      "metadata": {
        "colab": {
          "base_uri": "https://localhost:8080/"
        },
        "id": "Tm6NbnRgVc4F",
        "outputId": "0f97de31-1d28-41fb-b67c-c8cc312f7d29"
      },
      "execution_count": 48,
      "outputs": [
        {
          "output_type": "stream",
          "name": "stdout",
          "text": [
            "produk_id: 0 outliers\n",
            "harga: 14 outliers\n",
            "rating: 0 outliers\n",
            "jumlah_ulasan: 0 outliers\n"
          ]
        }
      ]
    },
    {
      "cell_type": "markdown",
      "source": [
        "Berdasarkan IQR, terdapat 14 outliers pada kolom harga."
      ],
      "metadata": {
        "id": "6RYqKIpfZ7ka"
      }
    },
    {
      "cell_type": "markdown",
      "source": [
        "# 3b. Apa Dampak dari Keberadaan Outlier terhadap Analisis?"
      ],
      "metadata": {
        "id": "w_B_cXS5dC6e"
      }
    },
    {
      "cell_type": "markdown",
      "source": [
        "Outlier dapat memiliki dampak yang signifikan terhadap data analisis dan juga hasilnya. Berikut adalah beberapa dampak utama dari adanya outlier.\n",
        "*   Pengaruh pada statistik deskriptif\n",
        "   \n",
        "    Outlier dapat mempengaruhi statistik deskriptif seperti mean, varians, dan deviasi standar. Misalnya, mean bisa menjadi sangat terdistorsi oleh beberapa outlier yang sangat tinggi atau rendah.\n",
        "*   Pengaruh pada model statistik\n",
        "\n",
        "    Pada regresi atau model statistik lainnya, outlier dapat mempengaruhi parameter model dan menghasilkan prediksi yang kurang akurat.\n",
        "*   Masalah pada kengambilan keputusan\n",
        "\n",
        "    Jika outlier tidak ditangani dengan benar, keputusan yang diambil berdasarkan data dapat menjadi tidak valid atau menyesatkan."
      ],
      "metadata": {
        "id": "OUwUxFUbd2PF"
      }
    },
    {
      "cell_type": "markdown",
      "source": [
        "# 3c. Metode Penanganan Outlier"
      ],
      "metadata": {
        "id": "ciXGTcUcO-eJ"
      }
    },
    {
      "cell_type": "markdown",
      "source": [
        "Berdasarkan jumlah dan dampak outlier, ada beberapa metode yang bisa digunakan:\n",
        "1.   Winsorizing, mengganti outlier dengan batas IQR\n",
        "     \n",
        "     Jika data penting dan tidak boleh dihapus, kita bisa mengganti outlier dengan batas kuartil.\n",
        "2.   Menghapus outlier, jika jumlahnya sedikit dan tidak signifikan)\n",
        "     \n",
        "     Jika jumlah outlier sangat sedikit dan tidak mempengaruhi distribusi data, bisa dihapus."
      ],
      "metadata": {
        "id": "67--fID8PC1h"
      }
    },
    {
      "cell_type": "markdown",
      "source": [
        "Oleh karena data harga, rating, dan jumlah_ulasan produk itu penting, maka akan digunakan Winsorizing untuk mengganti outlier dengan batas IQR. Tidak menghapus outlier, karena dapat mempengaruhi dimensi data."
      ],
      "metadata": {
        "id": "Q8iU1KqRY7Yf"
      }
    },
    {
      "cell_type": "markdown",
      "source": [
        "# 3d. Penanganan Outlier"
      ],
      "metadata": {
        "id": "dDiheEw6ayPa"
      }
    },
    {
      "cell_type": "code",
      "source": [
        "def winsorize_iqr(data, column):\n",
        "    Q1 = data[column].quantile(0.25)\n",
        "    Q3 = data[column].quantile(0.75)\n",
        "    IQR = Q3 - Q1\n",
        "    lower_bound = Q1 - 1.5 * IQR\n",
        "    upper_bound = Q3 + 1.5 * IQR\n",
        "    data[column] = np.where(data[column] < lower_bound, lower_bound, data[column])\n",
        "    data[column] = np.where(data[column] > upper_bound, upper_bound, data[column])\n",
        "\n",
        "# Terapkan winsorizing\n",
        "for col in num_cols:\n",
        "    winsorize_iqr(data, col)"
      ],
      "metadata": {
        "id": "9WrMv5xbZDbh"
      },
      "execution_count": 49,
      "outputs": []
    },
    {
      "cell_type": "code",
      "source": [
        "#Cek boxplot lagi\n",
        "\n",
        "num_cols = ['produk_id','harga', 'rating', 'jumlah_ulasan']\n",
        "\n",
        "# Visualisasi Boxplot\n",
        "plt.figure(figsize=(15, 8))\n",
        "for i, col in enumerate(num_cols, 1):\n",
        "    plt.subplot(3, 4, i)\n",
        "    sns.boxplot(y=data[col])\n",
        "    plt.title(col)\n",
        "plt.tight_layout()\n",
        "plt.show()"
      ],
      "metadata": {
        "colab": {
          "base_uri": "https://localhost:8080/",
          "height": 237
        },
        "id": "xGc7ZKkkZI-5",
        "outputId": "acface3f-da9f-4764-f7c3-7cdc84f63b70"
      },
      "execution_count": 50,
      "outputs": [
        {
          "output_type": "display_data",
          "data": {
            "text/plain": [
              "<Figure size 1500x800 with 4 Axes>"
            ],
            "image/png": "[encoded data removed]"
          },
          "metadata": {}
        }
      ]
    },
    {
      "cell_type": "code",
      "source": [
        "# Cek jumlah outlier untuk setiap kolom numerik\n",
        "for col in num_cols:\n",
        "    outliers = detect_outliers_iqr(data, col)\n",
        "    print(f\"{col}: {len(outliers)} outliers\")"
      ],
      "metadata": {
        "colab": {
          "base_uri": "https://localhost:8080/"
        },
        "id": "kBTpAV-kbtRJ",
        "outputId": "00f9697f-ec93-444f-9ff9-cf7c60d316b2"
      },
      "execution_count": 51,
      "outputs": [
        {
          "output_type": "stream",
          "name": "stdout",
          "text": [
            "produk_id: 0 outliers\n",
            "harga: 0 outliers\n",
            "rating: 0 outliers\n",
            "jumlah_ulasan: 0 outliers\n"
          ]
        }
      ]
    },
    {
      "cell_type": "markdown",
      "source": [
        "Setelah dilakukan penanganan outlier, data tersebut sudah tidak memiliki outlier lagi."
      ],
      "metadata": {
        "id": "VZXpRt12beSa"
      }
    },
    {
      "cell_type": "markdown",
      "source": [
        "# 4a. Encoding Data Kategorik"
      ],
      "metadata": {
        "id": "BkyTxSLhZT5Z"
      }
    },
    {
      "cell_type": "markdown",
      "source": [
        "Encoding adalah proses mengubah data kategorik menjadi bentuk numerik agar dapat digunakan dalam algoritma *Machine Learning*. Model *Machine Learning* umumnya hanya dapat bekerja dengan angka, sehingga data kategorik harus dikonversi terlebih dahulu sebelum digunakan dalam pemodelan."
      ],
      "metadata": {
        "id": "H30fZ1d_ZYay"
      }
    },
    {
      "cell_type": "markdown",
      "source": [
        "Metode Encoding dalam Machine Learning Ada beberapa metode encoding yang umum digunakan, tergantung pada jenis dan karakteristik data kategorik:\n",
        "1.   *One-Hot Encoding* (OHE): mengubah kategori menjadi beberapa kolom biner (0/1). Digunakan jika jumlah kategori tidak terlalu banyak (menghindari dimensionalitas tinggi) hal ini akan menambah dimensi kolom data.\n",
        "2.   *Ordinal Encoding*: mengubah kategori menjadi angka berurutan (0,1,2,..). Digunakan jika kategori memiliki urutan yang jelas (misalnya pendidikan: SD < SMP < SMA).\n",
        "3.   *Target Encoding*: menggunakan rata-rata target (misalnya rata-rata harga produk berdasarkan asal negara) untuk mengganti kategori. Digunakan jika data memiliki hubungan statistik yang kuat dengan target.\n",
        "4.   *Frequency Encoding*: mengubah setiap negara menjadi jumlah kemunculannya dalam dataset.\n",
        "5.   *Regional Encoding*\n",
        "\n",
        "\n",
        "\n",
        "\n",
        "\n"
      ],
      "metadata": {
        "id": "QLOZKgdiZazj"
      }
    },
    {
      "cell_type": "markdown",
      "source": [
        "Terdapat dua kolom kategorik yang memerlukan encoding, yaitu sebagai berikut.\n",
        "1.   kategori → Berisi jenis produk\n",
        "2.   negara_asal → Berisi negara asal produk"
      ],
      "metadata": {
        "id": "v1W0urwqR4wE"
      }
    },
    {
      "cell_type": "markdown",
      "source": [
        "# 4b bagian 1: Encoding pada Kolom Kategori"
      ],
      "metadata": {
        "id": "39uPiLdWSBZT"
      }
    },
    {
      "cell_type": "code",
      "source": [
        "#Melihat isi dalam kolom kategori\n",
        "data['kategori'].unique()"
      ],
      "metadata": {
        "colab": {
          "base_uri": "https://localhost:8080/"
        },
        "id": "a7BYgXU3UoVI",
        "outputId": "eb5831f7-9718-4fe4-b134-76804fdb90eb"
      },
      "execution_count": 52,
      "outputs": [
        {
          "output_type": "execute_result",
          "data": {
            "text/plain": [
              "array(['Smartwatch', 'Headphone', 'Tablet', 'Laptop', 'Camera',\n",
              "       'Smartphone'], dtype=object)"
            ]
          },
          "metadata": {},
          "execution_count": 52
        }
      ]
    },
    {
      "cell_type": "markdown",
      "source": [
        "Kolom kategori berisi jenis produk, jadi tidak memiliki urutan yang jelas dan jumlah kategori tidak terlalu banyak, yaitu berjumlah 5. Sehingga menggunakan *One-Hot Encoding* untuk memudahkan dalam mengubah kategori."
      ],
      "metadata": {
        "id": "vDi4d3OaSObu"
      }
    },
    {
      "cell_type": "markdown",
      "source": [
        "*One-Hot Encoding* untuk kolom kategori:"
      ],
      "metadata": {
        "id": "E9KCaqVTTvly"
      }
    },
    {
      "cell_type": "code",
      "source": [
        "from sklearn.preprocessing import OneHotEncoder\n",
        "One_encoder = OneHotEncoder()"
      ],
      "metadata": {
        "id": "cX-LmNO-oDOd"
      },
      "execution_count": 53,
      "outputs": []
    },
    {
      "cell_type": "code",
      "source": [
        "One_encoder = OneHotEncoder(handle_unknown='ignore',sparse_output=False).set_output(transform='pandas')"
      ],
      "metadata": {
        "id": "68sO2oxq2hPV"
      },
      "execution_count": 54,
      "outputs": []
    },
    {
      "cell_type": "code",
      "source": [
        "encoded_kategori = One_encoder.fit_transform(data[['kategori']])"
      ],
      "metadata": {
        "id": "hTFnAL2_3Pxs"
      },
      "execution_count": 55,
      "outputs": []
    },
    {
      "cell_type": "code",
      "source": [
        "encoded_kategori"
      ],
      "metadata": {
        "id": "5e7RBfW33sOT",
        "colab": {
          "base_uri": "https://localhost:8080/",
          "height": 423
        },
        "outputId": "b7e4709d-db94-460b-dd5e-8b5ad85d4157"
      },
      "execution_count": 56,
      "outputs": [
        {
          "output_type": "execute_result",
          "data": {
            "text/plain": [
              "     kategori_Camera  kategori_Headphone  kategori_Laptop  \\\n",
              "0                0.0                 0.0              0.0   \n",
              "1                0.0                 1.0              0.0   \n",
              "2                0.0                 0.0              0.0   \n",
              "3                0.0                 1.0              0.0   \n",
              "4                0.0                 1.0              0.0   \n",
              "..               ...                 ...              ...   \n",
              "545              0.0                 0.0              1.0   \n",
              "546              0.0                 1.0              0.0   \n",
              "547              0.0                 0.0              0.0   \n",
              "548              0.0                 0.0              1.0   \n",
              "549              0.0                 0.0              0.0   \n",
              "\n",
              "     kategori_Smartphone  kategori_Smartwatch  kategori_Tablet  \n",
              "0                    0.0                  1.0              0.0  \n",
              "1                    0.0                  0.0              0.0  \n",
              "2                    0.0                  0.0              1.0  \n",
              "3                    0.0                  0.0              0.0  \n",
              "4                    0.0                  0.0              0.0  \n",
              "..                   ...                  ...              ...  \n",
              "545                  0.0                  0.0              0.0  \n",
              "546                  0.0                  0.0              0.0  \n",
              "547                  0.0                  0.0              1.0  \n",
              "548                  0.0                  0.0              0.0  \n",
              "549                  0.0                  0.0              1.0  \n",
              "\n",
              "[550 rows x 6 columns]"
            ],
            "text/html": [
              "\n",
              "  <div id=\"df-9fcd4e23-0893-4e32-949f-ab9a957f6243\" class=\"colab-df-container\">\n",
              "    <div>\n",
              "<style scoped>\n",
              "    .dataframe tbody tr th:only-of-type {\n",
              "        vertical-align: middle;\n",
              "    }\n",
              "\n",
              "    .dataframe tbody tr th {\n",
              "        vertical-align: top;\n",
              "    }\n",
              "\n",
              "    .dataframe thead th {\n",
              "        text-align: right;\n",
              "    }\n",
              "</style>\n",
              "<table border=\"1\" class=\"dataframe\">\n",
              "  <thead>\n",
              "    <tr style=\"text-align: right;\">\n",
              "      <th></th>\n",
              "      <th>kategori_Camera</th>\n",
              "      <th>kategori_Headphone</th>\n",
              "      <th>kategori_Laptop</th>\n",
              "      <th>kategori_Smartphone</th>\n",
              "      <th>kategori_Smartwatch</th>\n",
              "      <th>kategori_Tablet</th>\n",
              "    </tr>\n",
              "  </thead>\n",
              "  <tbody>\n",
              "    <tr>\n",
              "      <th>0</th>\n",
              "      <td>0.0</td>\n",
              "      <td>0.0</td>\n",
              "      <td>0.0</td>\n",
              "      <td>0.0</td>\n",
              "      <td>1.0</td>\n",
              "      <td>0.0</td>\n",
              "    </tr>\n",
              "    <tr>\n",
              "      <th>1</th>\n",
              "      <td>0.0</td>\n",
              "      <td>1.0</td>\n",
              "      <td>0.0</td>\n",
              "      <td>0.0</td>\n",
              "      <td>0.0</td>\n",
              "      <td>0.0</td>\n",
              "    </tr>\n",
              "    <tr>\n",
              "      <th>2</th>\n",
              "      <td>0.0</td>\n",
              "      <td>0.0</td>\n",
              "      <td>0.0</td>\n",
              "      <td>0.0</td>\n",
              "      <td>0.0</td>\n",
              "      <td>1.0</td>\n",
              "    </tr>\n",
              "    <tr>\n",
              "      <th>3</th>\n",
              "      <td>0.0</td>\n",
              "      <td>1.0</td>\n",
              "      <td>0.0</td>\n",
              "      <td>0.0</td>\n",
              "      <td>0.0</td>\n",
              "      <td>0.0</td>\n",
              "    </tr>\n",
              "    <tr>\n",
              "      <th>4</th>\n",
              "      <td>0.0</td>\n",
              "      <td>1.0</td>\n",
              "      <td>0.0</td>\n",
              "      <td>0.0</td>\n",
              "      <td>0.0</td>\n",
              "      <td>0.0</td>\n",
              "    </tr>\n",
              "    <tr>\n",
              "      <th>...</th>\n",
              "      <td>...</td>\n",
              "      <td>...</td>\n",
              "      <td>...</td>\n",
              "      <td>...</td>\n",
              "      <td>...</td>\n",
              "      <td>...</td>\n",
              "    </tr>\n",
              "    <tr>\n",
              "      <th>545</th>\n",
              "      <td>0.0</td>\n",
              "      <td>0.0</td>\n",
              "      <td>1.0</td>\n",
              "      <td>0.0</td>\n",
              "      <td>0.0</td>\n",
              "      <td>0.0</td>\n",
              "    </tr>\n",
              "    <tr>\n",
              "      <th>546</th>\n",
              "      <td>0.0</td>\n",
              "      <td>1.0</td>\n",
              "      <td>0.0</td>\n",
              "      <td>0.0</td>\n",
              "      <td>0.0</td>\n",
              "      <td>0.0</td>\n",
              "    </tr>\n",
              "    <tr>\n",
              "      <th>547</th>\n",
              "      <td>0.0</td>\n",
              "      <td>0.0</td>\n",
              "      <td>0.0</td>\n",
              "      <td>0.0</td>\n",
              "      <td>0.0</td>\n",
              "      <td>1.0</td>\n",
              "    </tr>\n",
              "    <tr>\n",
              "      <th>548</th>\n",
              "      <td>0.0</td>\n",
              "      <td>0.0</td>\n",
              "      <td>1.0</td>\n",
              "      <td>0.0</td>\n",
              "      <td>0.0</td>\n",
              "      <td>0.0</td>\n",
              "    </tr>\n",
              "    <tr>\n",
              "      <th>549</th>\n",
              "      <td>0.0</td>\n",
              "      <td>0.0</td>\n",
              "      <td>0.0</td>\n",
              "      <td>0.0</td>\n",
              "      <td>0.0</td>\n",
              "      <td>1.0</td>\n",
              "    </tr>\n",
              "  </tbody>\n",
              "</table>\n",
              "<p>550 rows × 6 columns</p>\n",
              "</div>\n",
              "    <div class=\"colab-df-buttons\">\n",
              "\n",
              "  <div class=\"colab-df-container\">\n",
              "    <button class=\"colab-df-convert\" onclick=\"convertToInteractive('df-9fcd4e23-0893-4e32-949f-ab9a957f6243')\"\n",
              "            title=\"Convert this dataframe to an interactive table.\"\n",
              "            style=\"display:none;\">\n",
              "\n",
              "  <svg xmlns=\"http://www.w3.org/2000/svg\" height=\"24px\" viewBox=\"0 -960 960 960\">\n",
              "    <path d=\"M120-120v-720h720v720H120Zm60-500h600v-160H180v160Zm220 220h160v-160H400v160Zm0 220h160v-160H400v160ZM180-400h160v-160H180v160Zm440 0h160v-160H620v160ZM180-180h160v-160H180v160Zm440 0h160v-160H620v160Z\"/>\n",
              "  </svg>\n",
              "    </button>\n",
              "\n",
              "  <style>\n",
              "    .colab-df-container {\n",
              "      display:flex;\n",
              "      gap: 12px;\n",
              "    }\n",
              "\n",
              "    .colab-df-convert {\n",
              "      background-color: #E8F0FE;\n",
              "      border: none;\n",
              "      border-radius: 50%;\n",
              "      cursor: pointer;\n",
              "      display: none;\n",
              "      fill: #1967D2;\n",
              "      height: 32px;\n",
              "      padding: 0 0 0 0;\n",
              "      width: 32px;\n",
              "    }\n",
              "\n",
              "    .colab-df-convert:hover {\n",
              "      background-color: #E2EBFA;\n",
              "      box-shadow: 0px 1px 2px rgba(60, 64, 67, 0.3), 0px 1px 3px 1px rgba(60, 64, 67, 0.15);\n",
              "      fill: #174EA6;\n",
              "    }\n",
              "\n",
              "    .colab-df-buttons div {\n",
              "      margin-bottom: 4px;\n",
              "    }\n",
              "\n",
              "    [theme=dark] .colab-df-convert {\n",
              "      background-color: #3B4455;\n",
              "      fill: #D2E3FC;\n",
              "    }\n",
              "\n",
              "    [theme=dark] .colab-df-convert:hover {\n",
              "      background-color: #434B5C;\n",
              "      box-shadow: 0px 1px 3px 1px rgba(0, 0, 0, 0.15);\n",
              "      filter: drop-shadow(0px 1px 2px rgba(0, 0, 0, 0.3));\n",
              "      fill: #FFFFFF;\n",
              "    }\n",
              "  </style>\n",
              "\n",
              "    <script>\n",
              "      const buttonEl =\n",
              "        document.querySelector('#df-9fcd4e23-0893-4e32-949f-ab9a957f6243 button.colab-df-convert');\n",
              "      buttonEl.style.display =\n",
              "        google.colab.kernel.accessAllowed ? 'block' : 'none';\n",
              "\n",
              "      async function convertToInteractive(key) {\n",
              "        const element = document.querySelector('#df-9fcd4e23-0893-4e32-949f-ab9a957f6243');\n",
              "        const dataTable =\n",
              "          await google.colab.kernel.invokeFunction('convertToInteractive',\n",
              "                                                    [key], {});\n",
              "        if (!dataTable) return;\n",
              "\n",
              "        const docLinkHtml = 'Like what you see? Visit the ' +\n",
              "          '<a target=\"_blank\" href=https://colab.research.google.com/notebooks/data_table.ipynb>data table notebook</a>'\n",
              "          + ' to learn more about interactive tables.';\n",
              "        element.innerHTML = '';\n",
              "        dataTable['output_type'] = 'display_data';\n",
              "        await google.colab.output.renderOutput(dataTable, element);\n",
              "        const docLink = document.createElement('div');\n",
              "        docLink.innerHTML = docLinkHtml;\n",
              "        element.appendChild(docLink);\n",
              "      }\n",
              "    </script>\n",
              "  </div>\n",
              "\n",
              "\n",
              "<div id=\"df-5c6ce82f-bf3e-40fb-a5a2-0d618e730998\">\n",
              "  <button class=\"colab-df-quickchart\" onclick=\"quickchart('df-5c6ce82f-bf3e-40fb-a5a2-0d618e730998')\"\n",
              "            title=\"Suggest charts\"\n",
              "            style=\"display:none;\">\n",
              "\n",
              "<svg xmlns=\"http://www.w3.org/2000/svg\" height=\"24px\"viewBox=\"0 0 24 24\"\n",
              "     width=\"24px\">\n",
              "    <g>\n",
              "        <path d=\"M19 3H5c-1.1 0-2 .9-2 2v14c0 1.1.9 2 2 2h14c1.1 0 2-.9 2-2V5c0-1.1-.9-2-2-2zM9 17H7v-7h2v7zm4 0h-2V7h2v10zm4 0h-2v-4h2v4z\"/>\n",
              "    </g>\n",
              "</svg>\n",
              "  </button>\n",
              "\n",
              "<style>\n",
              "  .colab-df-quickchart {\n",
              "      --bg-color: #E8F0FE;\n",
              "      --fill-color: #1967D2;\n",
              "      --hover-bg-color: #E2EBFA;\n",
              "      --hover-fill-color: #174EA6;\n",
              "      --disabled-fill-color: #AAA;\n",
              "      --disabled-bg-color: #DDD;\n",
              "  }\n",
              "\n",
              "  [theme=dark] .colab-df-quickchart {\n",
              "      --bg-color: #3B4455;\n",
              "      --fill-color: #D2E3FC;\n",
              "      --hover-bg-color: #434B5C;\n",
              "      --hover-fill-color: #FFFFFF;\n",
              "      --disabled-bg-color: #3B4455;\n",
              "      --disabled-fill-color: #666;\n",
              "  }\n",
              "\n",
              "  .colab-df-quickchart {\n",
              "    background-color: var(--bg-color);\n",
              "    border: none;\n",
              "    border-radius: 50%;\n",
              "    cursor: pointer;\n",
              "    display: none;\n",
              "    fill: var(--fill-color);\n",
              "    height: 32px;\n",
              "    padding: 0;\n",
              "    width: 32px;\n",
              "  }\n",
              "\n",
              "  .colab-df-quickchart:hover {\n",
              "    background-color: var(--hover-bg-color);\n",
              "    box-shadow: 0 1px 2px rgba(60, 64, 67, 0.3), 0 1px 3px 1px rgba(60, 64, 67, 0.15);\n",
              "    fill: var(--button-hover-fill-color);\n",
              "  }\n",
              "\n",
              "  .colab-df-quickchart-complete:disabled,\n",
              "  .colab-df-quickchart-complete:disabled:hover {\n",
              "    background-color: var(--disabled-bg-color);\n",
              "    fill: var(--disabled-fill-color);\n",
              "    box-shadow: none;\n",
              "  }\n",
              "\n",
              "  .colab-df-spinner {\n",
              "    border: 2px solid var(--fill-color);\n",
              "    border-color: transparent;\n",
              "    border-bottom-color: var(--fill-color);\n",
              "    animation:\n",
              "      spin 1s steps(1) infinite;\n",
              "  }\n",
              "\n",
              "  @keyframes spin {\n",
              "    0% {\n",
              "      border-color: transparent;\n",
              "      border-bottom-color: var(--fill-color);\n",
              "      border-left-color: var(--fill-color);\n",
              "    }\n",
              "    20% {\n",
              "      border-color: transparent;\n",
              "      border-left-color: var(--fill-color);\n",
              "      border-top-color: var(--fill-color);\n",
              "    }\n",
              "    30% {\n",
              "      border-color: transparent;\n",
              "      border-left-color: var(--fill-color);\n",
              "      border-top-color: var(--fill-color);\n",
              "      border-right-color: var(--fill-color);\n",
              "    }\n",
              "    40% {\n",
              "      border-color: transparent;\n",
              "      border-right-color: var(--fill-color);\n",
              "      border-top-color: var(--fill-color);\n",
              "    }\n",
              "    60% {\n",
              "      border-color: transparent;\n",
              "      border-right-color: var(--fill-color);\n",
              "    }\n",
              "    80% {\n",
              "      border-color: transparent;\n",
              "      border-right-color: var(--fill-color);\n",
              "      border-bottom-color: var(--fill-color);\n",
              "    }\n",
              "    90% {\n",
              "      border-color: transparent;\n",
              "      border-bottom-color: var(--fill-color);\n",
              "    }\n",
              "  }\n",
              "</style>\n",
              "\n",
              "  <script>\n",
              "    async function quickchart(key) {\n",
              "      const quickchartButtonEl =\n",
              "        document.querySelector('#' + key + ' button');\n",
              "      quickchartButtonEl.disabled = true;  // To prevent multiple clicks.\n",
              "      quickchartButtonEl.classList.add('colab-df-spinner');\n",
              "      try {\n",
              "        const charts = await google.colab.kernel.invokeFunction(\n",
              "            'suggestCharts', [key], {});\n",
              "      } catch (error) {\n",
              "        console.error('Error during call to suggestCharts:', error);\n",
              "      }\n",
              "      quickchartButtonEl.classList.remove('colab-df-spinner');\n",
              "      quickchartButtonEl.classList.add('colab-df-quickchart-complete');\n",
              "    }\n",
              "    (() => {\n",
              "      let quickchartButtonEl =\n",
              "        document.querySelector('#df-5c6ce82f-bf3e-40fb-a5a2-0d618e730998 button');\n",
              "      quickchartButtonEl.style.display =\n",
              "        google.colab.kernel.accessAllowed ? 'block' : 'none';\n",
              "    })();\n",
              "  </script>\n",
              "</div>\n",
              "\n",
              "  <div id=\"id_a22f3110-907a-4bdd-bb29-7ff6661b4a14\">\n",
              "    <style>\n",
              "      .colab-df-generate {\n",
              "        background-color: #E8F0FE;\n",
              "        border: none;\n",
              "        border-radius: 50%;\n",
              "        cursor: pointer;\n",
              "        display: none;\n",
              "        fill: #1967D2;\n",
              "        height: 32px;\n",
              "        padding: 0 0 0 0;\n",
              "        width: 32px;\n",
              "      }\n",
              "\n",
              "      .colab-df-generate:hover {\n",
              "        background-color: #E2EBFA;\n",
              "        box-shadow: 0px 1px 2px rgba(60, 64, 67, 0.3), 0px 1px 3px 1px rgba(60, 64, 67, 0.15);\n",
              "        fill: #174EA6;\n",
              "      }\n",
              "\n",
              "      [theme=dark] .colab-df-generate {\n",
              "        background-color: #3B4455;\n",
              "        fill: #D2E3FC;\n",
              "      }\n",
              "\n",
              "      [theme=dark] .colab-df-generate:hover {\n",
              "        background-color: #434B5C;\n",
              "        box-shadow: 0px 1px 3px 1px rgba(0, 0, 0, 0.15);\n",
              "        filter: drop-shadow(0px 1px 2px rgba(0, 0, 0, 0.3));\n",
              "        fill: #FFFFFF;\n",
              "      }\n",
              "    </style>\n",
              "    <button class=\"colab-df-generate\" onclick=\"generateWithVariable('encoded_kategori')\"\n",
              "            title=\"Generate code using this dataframe.\"\n",
              "            style=\"display:none;\">\n",
              "\n",
              "  <svg xmlns=\"http://www.w3.org/2000/svg\" height=\"24px\"viewBox=\"0 0 24 24\"\n",
              "       width=\"24px\">\n",
              "    <path d=\"M7,19H8.4L18.45,9,17,7.55,7,17.6ZM5,21V16.75L18.45,3.32a2,2,0,0,1,2.83,0l1.4,1.43a1.91,1.91,0,0,1,.58,1.4,1.91,1.91,0,0,1-.58,1.4L9.25,21ZM18.45,9,17,7.55Zm-12,3A5.31,5.31,0,0,0,4.9,8.1,5.31,5.31,0,0,0,1,6.5,5.31,5.31,0,0,0,4.9,4.9,5.31,5.31,0,0,0,6.5,1,5.31,5.31,0,0,0,8.1,4.9,5.31,5.31,0,0,0,12,6.5,5.46,5.46,0,0,0,6.5,12Z\"/>\n",
              "  </svg>\n",
              "    </button>\n",
              "    <script>\n",
              "      (() => {\n",
              "      const buttonEl =\n",
              "        document.querySelector('#id_a22f3110-907a-4bdd-bb29-7ff6661b4a14 button.colab-df-generate');\n",
              "      buttonEl.style.display =\n",
              "        google.colab.kernel.accessAllowed ? 'block' : 'none';\n",
              "\n",
              "      buttonEl.onclick = () => {\n",
              "        google.colab.notebook.generateWithVariable('encoded_kategori');\n",
              "      }\n",
              "      })();\n",
              "    </script>\n",
              "  </div>\n",
              "\n",
              "    </div>\n",
              "  </div>\n"
            ],
            "application/vnd.google.colaboratory.intrinsic+json": {
              "type": "dataframe",
              "variable_name": "encoded_kategori",
              "summary": "{\n  \"name\": \"encoded_kategori\",\n  \"rows\": 550,\n  \"fields\": [\n    {\n      \"column\": \"kategori_Camera\",\n      \"properties\": {\n        \"dtype\": \"number\",\n        \"std\": 0.37028204499610634,\n        \"min\": 0.0,\n        \"max\": 1.0,\n        \"num_unique_values\": 2,\n        \"samples\": [\n          1.0,\n          0.0\n        ],\n        \"semantic_type\": \"\",\n        \"description\": \"\"\n      }\n    },\n    {\n      \"column\": \"kategori_Headphone\",\n      \"properties\": {\n        \"dtype\": \"number\",\n        \"std\": 0.36005188123149656,\n        \"min\": 0.0,\n        \"max\": 1.0,\n        \"num_unique_values\": 2,\n        \"samples\": [\n          1.0,\n          0.0\n        ],\n        \"semantic_type\": \"\",\n        \"description\": \"\"\n      }\n    },\n    {\n      \"column\": \"kategori_Laptop\",\n      \"properties\": {\n        \"dtype\": \"number\",\n        \"std\": 0.36353037037793323,\n        \"min\": 0.0,\n        \"max\": 1.0,\n        \"num_unique_values\": 2,\n        \"samples\": [\n          1.0,\n          0.0\n        ],\n        \"semantic_type\": \"\",\n        \"description\": \"\"\n      }\n    },\n    {\n      \"column\": \"kategori_Smartphone\",\n      \"properties\": {\n        \"dtype\": \"number\",\n        \"std\": 0.3814762029182766,\n        \"min\": 0.0,\n        \"max\": 1.0,\n        \"num_unique_values\": 2,\n        \"samples\": [\n          1.0,\n          0.0\n        ],\n        \"semantic_type\": \"\",\n        \"description\": \"\"\n      }\n    },\n    {\n      \"column\": \"kategori_Smartwatch\",\n      \"properties\": {\n        \"dtype\": \"number\",\n        \"std\": 0.39621073205563095,\n        \"min\": 0.0,\n        \"max\": 1.0,\n        \"num_unique_values\": 2,\n        \"samples\": [\n          0.0,\n          1.0\n        ],\n        \"semantic_type\": \"\",\n        \"description\": \"\"\n      }\n    },\n    {\n      \"column\": \"kategori_Tablet\",\n      \"properties\": {\n        \"dtype\": \"number\",\n        \"std\": 0.36353037037793273,\n        \"min\": 0.0,\n        \"max\": 1.0,\n        \"num_unique_values\": 2,\n        \"samples\": [\n          1.0,\n          0.0\n        ],\n        \"semantic_type\": \"\",\n        \"description\": \"\"\n      }\n    }\n  ]\n}"
            }
          },
          "metadata": {},
          "execution_count": 56
        }
      ]
    },
    {
      "cell_type": "markdown",
      "source": [
        "Setelah dilakukan perubahan kategori, data kolom kategori produk sudah berubah menjadi kolom biner."
      ],
      "metadata": {
        "id": "uK8b0aY6T9IL"
      }
    },
    {
      "cell_type": "code",
      "source": [
        "data.info()"
      ],
      "metadata": {
        "colab": {
          "base_uri": "https://localhost:8080/"
        },
        "id": "5WRCjKuvVcDB",
        "outputId": "78a6eb64-37a1-41a5-a9a0-5cf23a6ededd"
      },
      "execution_count": 57,
      "outputs": [
        {
          "output_type": "stream",
          "name": "stdout",
          "text": [
            "<class 'pandas.core.frame.DataFrame'>\n",
            "RangeIndex: 550 entries, 0 to 549\n",
            "Data columns (total 7 columns):\n",
            " #   Column         Non-Null Count  Dtype  \n",
            "---  ------         --------------  -----  \n",
            " 0   produk_id      550 non-null    float64\n",
            " 1   nama_produk    550 non-null    object \n",
            " 2   kategori       550 non-null    object \n",
            " 3   harga          550 non-null    float64\n",
            " 4   rating         550 non-null    float64\n",
            " 5   jumlah_ulasan  550 non-null    float64\n",
            " 6   negara_asal    550 non-null    object \n",
            "dtypes: float64(4), object(3)\n",
            "memory usage: 30.2+ KB\n"
          ]
        }
      ]
    },
    {
      "cell_type": "markdown",
      "source": [
        "# 4b bagian 1: Encoding pada Kolom Negara Asal"
      ],
      "metadata": {
        "id": "MN2y8UKfhilv"
      }
    },
    {
      "cell_type": "code",
      "source": [
        "#Melihat isi dalam kolom negara_asal\n",
        "data['negara_asal'].unique()"
      ],
      "metadata": {
        "colab": {
          "base_uri": "https://localhost:8080/"
        },
        "id": "ZetL5NtwShES",
        "outputId": "dbd94d0e-e11d-46f3-a28e-8b88d3b9d582"
      },
      "execution_count": 58,
      "outputs": [
        {
          "output_type": "execute_result",
          "data": {
            "text/plain": [
              "array(['Japan', 'Canada', 'South Korea', 'France', 'USA', 'Germany',\n",
              "       'China', 'India', 'UK'], dtype=object)"
            ]
          },
          "metadata": {},
          "execution_count": 58
        }
      ]
    },
    {
      "cell_type": "markdown",
      "source": [
        "Kolom negara-asal berisi negara asal dari setiap produk dengan jumlah 9 negara. Oleh karena asal_negara tidak memiliki urutan yang jelas, jumlah kategori cukup banyak, sehingga menggunakan *regional encoding* untuk mengkategorikan asal_negara berdasarkan benuanya dan *regional encoding* memiliki resiko yang lebih kecil dibanding yang lain."
      ],
      "metadata": {
        "id": "4aNVANSbVmcx"
      }
    },
    {
      "cell_type": "markdown",
      "source": [
        "*Regional encoding* untuk kolom negara_asal:"
      ],
      "metadata": {
        "id": "K88tkR_KcWaU"
      }
    },
    {
      "cell_type": "code",
      "source": [
        "# Buat dictionary untuk mapping negara_asal produk ke region\n",
        "negara_asal_ke_region = {\n",
        "    'India': 'Asia', 'Germany': 'Eropa', 'South Korea': 'Asia', 'France': 'Eropa',\n",
        "    'UK': 'Eropa', 'Canada': 'Eropa', 'USA': 'Eropa', 'Japan': 'Asia', 'China': 'Asia',\n",
        "}\n",
        "\n",
        "# Ubah negara_asal menjadi region\n",
        "data['negara_asal_region'] = data['negara_asal'].map(negara_asal_ke_region).fillna('Others')\n",
        "\n",
        "# One-Hot Encoding pada region\n",
        "data = pd.get_dummies(data, columns=['negara_asal_region'], prefix='region')"
      ],
      "metadata": {
        "id": "Dr6ADaYAwNHF"
      },
      "execution_count": 59,
      "outputs": []
    },
    {
      "cell_type": "code",
      "source": [
        "data.info()"
      ],
      "metadata": {
        "colab": {
          "base_uri": "https://localhost:8080/"
        },
        "id": "M70j73JYwP-T",
        "outputId": "69bd0c8d-b24a-4af4-e1cf-c859b3fed860"
      },
      "execution_count": 60,
      "outputs": [
        {
          "output_type": "stream",
          "name": "stdout",
          "text": [
            "<class 'pandas.core.frame.DataFrame'>\n",
            "RangeIndex: 550 entries, 0 to 549\n",
            "Data columns (total 9 columns):\n",
            " #   Column         Non-Null Count  Dtype  \n",
            "---  ------         --------------  -----  \n",
            " 0   produk_id      550 non-null    float64\n",
            " 1   nama_produk    550 non-null    object \n",
            " 2   kategori       550 non-null    object \n",
            " 3   harga          550 non-null    float64\n",
            " 4   rating         550 non-null    float64\n",
            " 5   jumlah_ulasan  550 non-null    float64\n",
            " 6   negara_asal    550 non-null    object \n",
            " 7   region_Asia    550 non-null    bool   \n",
            " 8   region_Eropa   550 non-null    bool   \n",
            "dtypes: bool(2), float64(4), object(3)\n",
            "memory usage: 31.3+ KB\n"
          ]
        }
      ]
    }
  ]
}